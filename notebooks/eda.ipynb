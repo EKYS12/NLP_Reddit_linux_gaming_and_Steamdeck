{
 "cells": [
  {
   "cell_type": "code",
   "execution_count": 1,
   "id": "2f75e0b1-d611-4320-aec5-7eb6fc5ea5f7",
   "metadata": {},
   "outputs": [],
   "source": [
    "import pandas as pd\n",
    "import numpy as np\n",
    "import matplotlib.pyplot as plt\n",
    "import seaborn as sns\n",
    "\n",
    "from sklearn.feature_extraction.text import CountVectorizer"
   ]
  },
  {
   "cell_type": "code",
   "execution_count": 2,
   "id": "35785216-bc23-4253-b84a-cb4d17ff1d17",
   "metadata": {},
   "outputs": [],
   "source": [
    "df = pd.read_csv('../data/linux_gaming_SteamDeck_merged_title_data.csv')"
   ]
  },
  {
   "cell_type": "code",
   "execution_count": 3,
   "id": "e906d159-da51-4cd4-ba83-5c4221525715",
   "metadata": {},
   "outputs": [
    {
     "data": {
      "text/html": [
       "<div>\n",
       "<style scoped>\n",
       "    .dataframe tbody tr th:only-of-type {\n",
       "        vertical-align: middle;\n",
       "    }\n",
       "\n",
       "    .dataframe tbody tr th {\n",
       "        vertical-align: top;\n",
       "    }\n",
       "\n",
       "    .dataframe thead th {\n",
       "        text-align: right;\n",
       "    }\n",
       "</style>\n",
       "<table border=\"1\" class=\"dataframe\">\n",
       "  <thead>\n",
       "    <tr style=\"text-align: right;\">\n",
       "      <th></th>\n",
       "      <th>title_id</th>\n",
       "      <th>title</th>\n",
       "      <th>subreddit</th>\n",
       "    </tr>\n",
       "  </thead>\n",
       "  <tbody>\n",
       "    <tr>\n",
       "      <th>0</th>\n",
       "      <td>12xr0d6</td>\n",
       "      <td>Valve moves ELDEN RING back to Proton 7 as it ...</td>\n",
       "      <td>linux_gaming</td>\n",
       "    </tr>\n",
       "    <tr>\n",
       "      <th>1</th>\n",
       "      <td>12xbjm3</td>\n",
       "      <td>Improved AMD Color Management Being Worked On ...</td>\n",
       "      <td>linux_gaming</td>\n",
       "    </tr>\n",
       "    <tr>\n",
       "      <th>2</th>\n",
       "      <td>12xtiug</td>\n",
       "      <td>My first solo made game Lichenvale is out on S...</td>\n",
       "      <td>linux_gaming</td>\n",
       "    </tr>\n",
       "    <tr>\n",
       "      <th>3</th>\n",
       "      <td>12xrnss</td>\n",
       "      <td>Fedora 39 Looks To Boost vm.max_map_count To H...</td>\n",
       "      <td>linux_gaming</td>\n",
       "    </tr>\n",
       "    <tr>\n",
       "      <th>4</th>\n",
       "      <td>12wu74d</td>\n",
       "      <td>Roblox intentionally blocking Linux with Wine ...</td>\n",
       "      <td>linux_gaming</td>\n",
       "    </tr>\n",
       "  </tbody>\n",
       "</table>\n",
       "</div>"
      ],
      "text/plain": [
       "  title_id                                              title     subreddit\n",
       "0  12xr0d6  Valve moves ELDEN RING back to Proton 7 as it ...  linux_gaming\n",
       "1  12xbjm3  Improved AMD Color Management Being Worked On ...  linux_gaming\n",
       "2  12xtiug  My first solo made game Lichenvale is out on S...  linux_gaming\n",
       "3  12xrnss  Fedora 39 Looks To Boost vm.max_map_count To H...  linux_gaming\n",
       "4  12wu74d  Roblox intentionally blocking Linux with Wine ...  linux_gaming"
      ]
     },
     "execution_count": 3,
     "metadata": {},
     "output_type": "execute_result"
    }
   ],
   "source": [
    "df.head()"
   ]
  },
  {
   "cell_type": "code",
   "execution_count": 4,
   "id": "62afb67c-690a-44b1-b891-9c95eab2823b",
   "metadata": {},
   "outputs": [
    {
     "data": {
      "text/plain": [
       "(2864, 3)"
      ]
     },
     "execution_count": 4,
     "metadata": {},
     "output_type": "execute_result"
    }
   ],
   "source": [
    "df.shape"
   ]
  },
  {
   "cell_type": "code",
   "execution_count": null,
   "id": "2191b63d-ad16-409a-a3b4-93cf32fa72cd",
   "metadata": {},
   "outputs": [],
   "source": []
  }
 ],
 "metadata": {
  "kernelspec": {
   "display_name": "Python 3 (ipykernel)",
   "language": "python",
   "name": "python3"
  },
  "language_info": {
   "codemirror_mode": {
    "name": "ipython",
    "version": 3
   },
   "file_extension": ".py",
   "mimetype": "text/x-python",
   "name": "python",
   "nbconvert_exporter": "python",
   "pygments_lexer": "ipython3",
   "version": "3.9.16"
  }
 },
 "nbformat": 4,
 "nbformat_minor": 5
}

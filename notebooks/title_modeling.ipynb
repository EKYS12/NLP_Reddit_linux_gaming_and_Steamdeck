{
 "cells": [
  {
   "cell_type": "markdown",
   "id": "dde07eb8-5b5f-4179-83fa-3011e697c843",
   "metadata": {},
   "source": [
    "# Modeling Titles"
   ]
  },
  {
   "cell_type": "code",
   "execution_count": 1,
   "id": "f0b82448-b8a7-4e59-941b-4f016dfca0a4",
   "metadata": {},
   "outputs": [],
   "source": [
    "import pandas as pd\n",
    "import numpy as np\n",
    "import matplotlib.pyplot as plt\n",
    "import seaborn as sns\n",
    "\n",
    "from sklearn.linear_model import LogisticRegression\n",
    "from sklearn.tree import DecisionTreeClassifier\n",
    "from sklearn.ensemble import RandomForestClassifier, AdaBoostClassifier\n",
    "from sklearn.model_selection import train_test_split, GridSearchCV\n",
    "from sklearn.metrics import mean_squared_error\n",
    "from nltk.corpus import stopwords\n",
    "from nltk.stem import WordNetLemmatizer, PorterStemmer\n",
    "from nltk.tokenize import word_tokenize\n",
    "from sklearn.feature_extraction.text import CountVectorizer\n",
    "from sklearn.pipeline import Pipeline\n",
    "\n",
    "import timeit\n",
    "import pickle"
   ]
  },
  {
   "cell_type": "code",
   "execution_count": 2,
   "id": "9be6546c-cde2-46ab-91c1-f9234af910bd",
   "metadata": {},
   "outputs": [],
   "source": [
    "df = pd.read_parquet('../data/linux_gaming_SteamDeck_clean_title_data.parquet')"
   ]
  },
  {
   "cell_type": "code",
   "execution_count": 3,
   "id": "69693b3e-2887-4468-8298-03a5cdad636b",
   "metadata": {},
   "outputs": [
    {
     "data": {
      "text/html": [
       "<div>\n",
       "<style scoped>\n",
       "    .dataframe tbody tr th:only-of-type {\n",
       "        vertical-align: middle;\n",
       "    }\n",
       "\n",
       "    .dataframe tbody tr th {\n",
       "        vertical-align: top;\n",
       "    }\n",
       "\n",
       "    .dataframe thead th {\n",
       "        text-align: right;\n",
       "    }\n",
       "</style>\n",
       "<table border=\"1\" class=\"dataframe\">\n",
       "  <thead>\n",
       "    <tr style=\"text-align: right;\">\n",
       "      <th></th>\n",
       "      <th>title_id</th>\n",
       "      <th>title</th>\n",
       "      <th>subreddit</th>\n",
       "      <th>title_length</th>\n",
       "      <th>title_word_count</th>\n",
       "      <th>negative_sentiment</th>\n",
       "      <th>neutral_sentiment</th>\n",
       "      <th>positive_sentiment</th>\n",
       "      <th>compund_sentiment</th>\n",
       "    </tr>\n",
       "  </thead>\n",
       "  <tbody>\n",
       "    <tr>\n",
       "      <th>0</th>\n",
       "      <td>pu1k55</td>\n",
       "      <td>epic games announce full easy anti cheat for l...</td>\n",
       "      <td>linux_gaming</td>\n",
       "      <td>74</td>\n",
       "      <td>12</td>\n",
       "      <td>0.308</td>\n",
       "      <td>0.523</td>\n",
       "      <td>0.169</td>\n",
       "      <td>-0.3400</td>\n",
       "    </tr>\n",
       "    <tr>\n",
       "      <th>1</th>\n",
       "      <td>9pkgwj</td>\n",
       "      <td>the struggles of being a modern age linux gamer</td>\n",
       "      <td>linux_gaming</td>\n",
       "      <td>48</td>\n",
       "      <td>9</td>\n",
       "      <td>0.263</td>\n",
       "      <td>0.737</td>\n",
       "      <td>0.000</td>\n",
       "      <td>-0.3612</td>\n",
       "    </tr>\n",
       "    <tr>\n",
       "      <th>2</th>\n",
       "      <td>q8trki</td>\n",
       "      <td>steam has banned all games that utilise blockc...</td>\n",
       "      <td>linux_gaming</td>\n",
       "      <td>100</td>\n",
       "      <td>15</td>\n",
       "      <td>0.176</td>\n",
       "      <td>0.824</td>\n",
       "      <td>0.000</td>\n",
       "      <td>-0.4588</td>\n",
       "    </tr>\n",
       "    <tr>\n",
       "      <th>3</th>\n",
       "      <td>ijat04</td>\n",
       "      <td>they didn't expect linux gaming in 2007</td>\n",
       "      <td>linux_gaming</td>\n",
       "      <td>39</td>\n",
       "      <td>7</td>\n",
       "      <td>0.000</td>\n",
       "      <td>1.000</td>\n",
       "      <td>0.000</td>\n",
       "      <td>0.0000</td>\n",
       "    </tr>\n",
       "    <tr>\n",
       "      <th>4</th>\n",
       "      <td>re13t3</td>\n",
       "      <td>ltt are planning to include linux compatibilit...</td>\n",
       "      <td>linux_gaming</td>\n",
       "      <td>74</td>\n",
       "      <td>11</td>\n",
       "      <td>0.000</td>\n",
       "      <td>1.000</td>\n",
       "      <td>0.000</td>\n",
       "      <td>0.0000</td>\n",
       "    </tr>\n",
       "  </tbody>\n",
       "</table>\n",
       "</div>"
      ],
      "text/plain": [
       "  title_id                                              title     subreddit  \\\n",
       "0   pu1k55  epic games announce full easy anti cheat for l...  linux_gaming   \n",
       "1   9pkgwj    the struggles of being a modern age linux gamer  linux_gaming   \n",
       "2   q8trki  steam has banned all games that utilise blockc...  linux_gaming   \n",
       "3   ijat04            they didn't expect linux gaming in 2007  linux_gaming   \n",
       "4   re13t3  ltt are planning to include linux compatibilit...  linux_gaming   \n",
       "\n",
       "   title_length  title_word_count  negative_sentiment  neutral_sentiment  \\\n",
       "0            74                12               0.308              0.523   \n",
       "1            48                 9               0.263              0.737   \n",
       "2           100                15               0.176              0.824   \n",
       "3            39                 7               0.000              1.000   \n",
       "4            74                11               0.000              1.000   \n",
       "\n",
       "   positive_sentiment  compund_sentiment  \n",
       "0               0.169            -0.3400  \n",
       "1               0.000            -0.3612  \n",
       "2               0.000            -0.4588  \n",
       "3               0.000             0.0000  \n",
       "4               0.000             0.0000  "
      ]
     },
     "execution_count": 3,
     "metadata": {},
     "output_type": "execute_result"
    }
   ],
   "source": [
    "df.head()"
   ]
  },
  {
   "cell_type": "code",
   "execution_count": 4,
   "id": "8725baea-b420-4d83-848e-19b9b87ef561",
   "metadata": {},
   "outputs": [
    {
     "data": {
      "text/plain": [
       "(6305, 9)"
      ]
     },
     "execution_count": 4,
     "metadata": {},
     "output_type": "execute_result"
    }
   ],
   "source": [
    "df.shape"
   ]
  },
  {
   "cell_type": "code",
   "execution_count": 5,
   "id": "6a9e36fc-5e64-4c7e-ac18-8e09d9c598d5",
   "metadata": {},
   "outputs": [
    {
     "data": {
      "text/plain": [
       "SteamDeck       0.63632\n",
       "linux_gaming    0.36368\n",
       "Name: subreddit, dtype: float64"
      ]
     },
     "execution_count": 5,
     "metadata": {},
     "output_type": "execute_result"
    }
   ],
   "source": [
    "df['subreddit'].value_counts(normalize=True)"
   ]
  },
  {
   "cell_type": "markdown",
   "id": "421fff92-cc4b-423d-bf85-914bcb1164af",
   "metadata": {
    "tags": []
   },
   "source": [
    "## Model Balancing\n",
    "\n",
    "We have lots of data, and an imbalance of around 2/3 and 1/3. We can afford to cut out some r/SteamDeck data to get a nice 50-50 splits between the two. We can perform random sampling to pick out the data. This will also help our models run a bit faster. "
   ]
  },
  {
   "cell_type": "code",
   "execution_count": 6,
   "id": "16e38c6b-abe8-481e-a947-b621ac7a8218",
   "metadata": {},
   "outputs": [
    {
     "data": {
      "text/plain": [
       "SteamDeck       4012\n",
       "linux_gaming    2293\n",
       "Name: subreddit, dtype: int64"
      ]
     },
     "execution_count": 6,
     "metadata": {},
     "output_type": "execute_result"
    }
   ],
   "source": [
    "df['subreddit'].value_counts()"
   ]
  },
  {
   "cell_type": "code",
   "execution_count": 7,
   "id": "3cdb9889-c6c9-41d2-9fb8-8cd08af76d98",
   "metadata": {},
   "outputs": [
    {
     "data": {
      "text/plain": [
       "2293"
      ]
     },
     "execution_count": 7,
     "metadata": {},
     "output_type": "execute_result"
    }
   ],
   "source": [
    "linux_title_count = df['subreddit'].value_counts()[1]\n",
    "\n",
    "linux_title_count"
   ]
  },
  {
   "cell_type": "markdown",
   "id": "1ef0f029-58e8-4b3d-a745-6ea76e6b7f17",
   "metadata": {},
   "source": [
    "We can actually just get and store the number of observations in our lower represented value, so let's write a function that can balance our datasets for us."
   ]
  },
  {
   "cell_type": "code",
   "execution_count": 8,
   "id": "d5d22795-1547-4243-a3f4-a0dd2cdeea69",
   "metadata": {
    "tags": []
   },
   "outputs": [],
   "source": [
    "def balance_df(df, count):\n",
    "    linux = df[df['subreddit'] == 'linux_gaming'].sample(n=count, random_state=42)\n",
    "    steam = df[df['subreddit'] == 'SteamDeck'].sample(n=count, random_state=42)\n",
    "    \n",
    "    # concatenate the two subsets into a new DataFrame\n",
    "    new_df = pd.concat([linux, steam])\n",
    "    \n",
    "    # shuffle the new DataFrame\n",
    "    new_df = new_df.sample(frac=1, random_state=42)\n",
    "    \n",
    "    return new_df"
   ]
  },
  {
   "cell_type": "code",
   "execution_count": 9,
   "id": "0ae34d9e-0d27-46c2-978e-9f1f0ad72d56",
   "metadata": {},
   "outputs": [],
   "source": [
    "df = balance_df(df, linux_title_count)"
   ]
  },
  {
   "cell_type": "code",
   "execution_count": 10,
   "id": "18331852-5279-4746-a52b-e66a9832c6ee",
   "metadata": {},
   "outputs": [
    {
     "data": {
      "text/html": [
       "<div>\n",
       "<style scoped>\n",
       "    .dataframe tbody tr th:only-of-type {\n",
       "        vertical-align: middle;\n",
       "    }\n",
       "\n",
       "    .dataframe tbody tr th {\n",
       "        vertical-align: top;\n",
       "    }\n",
       "\n",
       "    .dataframe thead th {\n",
       "        text-align: right;\n",
       "    }\n",
       "</style>\n",
       "<table border=\"1\" class=\"dataframe\">\n",
       "  <thead>\n",
       "    <tr style=\"text-align: right;\">\n",
       "      <th></th>\n",
       "      <th>title_id</th>\n",
       "      <th>title</th>\n",
       "      <th>subreddit</th>\n",
       "      <th>title_length</th>\n",
       "      <th>title_word_count</th>\n",
       "      <th>negative_sentiment</th>\n",
       "      <th>neutral_sentiment</th>\n",
       "      <th>positive_sentiment</th>\n",
       "      <th>compund_sentiment</th>\n",
       "    </tr>\n",
       "  </thead>\n",
       "  <tbody>\n",
       "    <tr>\n",
       "      <th>2345</th>\n",
       "      <td>133ybku</td>\n",
       "      <td>my icons won't go to portrait i've tried unins...</td>\n",
       "      <td>SteamDeck</td>\n",
       "      <td>208</td>\n",
       "      <td>39</td>\n",
       "      <td>0.057</td>\n",
       "      <td>0.914</td>\n",
       "      <td>0.029</td>\n",
       "      <td>-0.2732</td>\n",
       "    </tr>\n",
       "    <tr>\n",
       "      <th>3674</th>\n",
       "      <td>u1loln</td>\n",
       "      <td>i found the perfect stand for my steam deck</td>\n",
       "      <td>SteamDeck</td>\n",
       "      <td>44</td>\n",
       "      <td>9</td>\n",
       "      <td>0.000</td>\n",
       "      <td>0.654</td>\n",
       "      <td>0.346</td>\n",
       "      <td>0.5719</td>\n",
       "    </tr>\n",
       "    <tr>\n",
       "      <th>2205</th>\n",
       "      <td>120zrem</td>\n",
       "      <td>overwatch mouse capture issue after respawn</td>\n",
       "      <td>linux_gaming</td>\n",
       "      <td>43</td>\n",
       "      <td>6</td>\n",
       "      <td>0.000</td>\n",
       "      <td>1.000</td>\n",
       "      <td>0.000</td>\n",
       "      <td>0.0000</td>\n",
       "    </tr>\n",
       "    <tr>\n",
       "      <th>1292</th>\n",
       "      <td>12oa8w0</td>\n",
       "      <td>does the battery health optimization on the lo...</td>\n",
       "      <td>linux_gaming</td>\n",
       "      <td>80</td>\n",
       "      <td>12</td>\n",
       "      <td>0.000</td>\n",
       "      <td>0.809</td>\n",
       "      <td>0.191</td>\n",
       "      <td>0.3818</td>\n",
       "    </tr>\n",
       "    <tr>\n",
       "      <th>6008</th>\n",
       "      <td>12qfc00</td>\n",
       "      <td>best option for 4 controllers</td>\n",
       "      <td>SteamDeck</td>\n",
       "      <td>29</td>\n",
       "      <td>5</td>\n",
       "      <td>0.000</td>\n",
       "      <td>0.417</td>\n",
       "      <td>0.583</td>\n",
       "      <td>0.6369</td>\n",
       "    </tr>\n",
       "  </tbody>\n",
       "</table>\n",
       "</div>"
      ],
      "text/plain": [
       "     title_id                                              title  \\\n",
       "2345  133ybku  my icons won't go to portrait i've tried unins...   \n",
       "3674   u1loln        i found the perfect stand for my steam deck   \n",
       "2205  120zrem        overwatch mouse capture issue after respawn   \n",
       "1292  12oa8w0  does the battery health optimization on the lo...   \n",
       "6008  12qfc00                      best option for 4 controllers   \n",
       "\n",
       "         subreddit  title_length  title_word_count  negative_sentiment  \\\n",
       "2345     SteamDeck           208                39               0.057   \n",
       "3674     SteamDeck            44                 9               0.000   \n",
       "2205  linux_gaming            43                 6               0.000   \n",
       "1292  linux_gaming            80                12               0.000   \n",
       "6008     SteamDeck            29                 5               0.000   \n",
       "\n",
       "      neutral_sentiment  positive_sentiment  compund_sentiment  \n",
       "2345              0.914               0.029            -0.2732  \n",
       "3674              0.654               0.346             0.5719  \n",
       "2205              1.000               0.000             0.0000  \n",
       "1292              0.809               0.191             0.3818  \n",
       "6008              0.417               0.583             0.6369  "
      ]
     },
     "execution_count": 10,
     "metadata": {},
     "output_type": "execute_result"
    }
   ],
   "source": [
    "df.head()"
   ]
  },
  {
   "cell_type": "code",
   "execution_count": 11,
   "id": "d6a08f6b-1c5b-45a1-ab3b-b5120cbb4047",
   "metadata": {},
   "outputs": [
    {
     "data": {
      "text/plain": [
       "(4586, 9)"
      ]
     },
     "execution_count": 11,
     "metadata": {},
     "output_type": "execute_result"
    }
   ],
   "source": [
    "df.shape"
   ]
  },
  {
   "cell_type": "markdown",
   "id": "a913ac5e-6e2d-47e1-9657-72f283179d97",
   "metadata": {},
   "source": [
    "Even though we cut out a fair bit of data, we're still left with more than enough of what we would want."
   ]
  },
  {
   "cell_type": "markdown",
   "id": "d21a2ef5-41f6-4d4e-b70a-693f77b65251",
   "metadata": {},
   "source": [
    "## Train Test Split"
   ]
  },
  {
   "cell_type": "code",
   "execution_count": 12,
   "id": "8d8e17c7-5fae-4ae6-80db-b9545f3455d8",
   "metadata": {},
   "outputs": [],
   "source": [
    "X = df['title']\n",
    "y = df['subreddit']\n",
    "\n",
    "X_train, X_test, y_train, y_test = train_test_split(X, y, random_state=42)"
   ]
  },
  {
   "cell_type": "markdown",
   "id": "0a80961a-e077-48ad-b239-818b15442135",
   "metadata": {},
   "source": [
    "## Pre-Processing"
   ]
  },
  {
   "cell_type": "code",
   "execution_count": 13,
   "id": "9edfe820-eb31-4c43-b8fa-fb47ef9927e0",
   "metadata": {},
   "outputs": [],
   "source": [
    "# Define stopwords, lemmatizer, and stemmer\n",
    "stop_words = stopwords.words('english')\n",
    "lemmatizer = WordNetLemmatizer()\n",
    "stemmer = PorterStemmer()"
   ]
  },
  {
   "cell_type": "code",
   "execution_count": 14,
   "id": "2feb7983-0210-4832-8374-9b3b5bee8acd",
   "metadata": {},
   "outputs": [],
   "source": [
    "# Define a function to preprocess each document\n",
    "def preprocess(text):\n",
    "    # Tokenize text into words\n",
    "    words = word_tokenize(text)\n",
    "    # Remove stop words\n",
    "    words = [word for word in words if word not in stop_words]\n",
    "    # Lemmatize words\n",
    "    words = [lemmatizer.lemmatize(word) for word in words]\n",
    "    # Stem words\n",
    "    words = [stemmer.stem(word) for word in words]\n",
    "    # Join words back into a string\n",
    "    return ' '.join(words)"
   ]
  },
  {
   "cell_type": "code",
   "execution_count": 15,
   "id": "af65c177-c6db-405e-bd59-46c9cb0a3be7",
   "metadata": {},
   "outputs": [],
   "source": [
    "cvec = CountVectorizer(preprocessor=preprocess, max_features=2000)\n",
    "\n",
    "X_train_cv = cvec.fit_transform(X_train)\n",
    "X_test_cv = cvec.transform(X_test)"
   ]
  },
  {
   "cell_type": "markdown",
   "id": "079b55c0-eb71-4f23-aa1d-1caeaa87b24e",
   "metadata": {},
   "source": [
    "### Timer Function\n",
    "\n",
    "This is a neat little function I got from [here](https://datascience.stackexchange.com/a/117793) that helps us estimate how long a gridsearch will take."
   ]
  },
  {
   "cell_type": "code",
   "execution_count": 16,
   "id": "7ac6c982-e697-4410-bd23-d8a144b4fb61",
   "metadata": {},
   "outputs": [],
   "source": [
    "def esitmate_gridsearch_time(model, param_grid:dict, cv:int=5, processors:int=6):\n",
    "    times = []\n",
    "    for _ in range(5):\n",
    "        start = timeit.default_timer()\n",
    "        model.fit(X_train_cv, y_train)\n",
    "        model.score(X_train_cv, y_train)\n",
    "        times.append(timeit.default_timer() - start)\n",
    "\n",
    "    single_train_time = np.array(times).mean() # seconds\n",
    "\n",
    "    combos = 1\n",
    "    for vals in param_grid.values():\n",
    "        combos *= len(vals)\n",
    "\n",
    "    num_models = combos * cv / processors\n",
    "    seconds = num_models * single_train_time\n",
    "    minutes = seconds / 60\n",
    "    hours = minutes / 60\n",
    "\n",
    "    print(hours, minutes, seconds)"
   ]
  },
  {
   "cell_type": "markdown",
   "id": "f1627ac9-da7d-42a3-9da2-861e82a343a6",
   "metadata": {},
   "source": [
    "## ADA Boosted Random Forest"
   ]
  },
  {
   "cell_type": "code",
   "execution_count": 17,
   "id": "aa92c2c4-1ae8-40cc-ab11-7d643b361ebe",
   "metadata": {},
   "outputs": [
    {
     "data": {
      "text/plain": [
       "{'algorithm': 'SAMME.R',\n",
       " 'base_estimator': 'deprecated',\n",
       " 'estimator__bootstrap': True,\n",
       " 'estimator__ccp_alpha': 0.0,\n",
       " 'estimator__class_weight': None,\n",
       " 'estimator__criterion': 'gini',\n",
       " 'estimator__max_depth': None,\n",
       " 'estimator__max_features': 'sqrt',\n",
       " 'estimator__max_leaf_nodes': None,\n",
       " 'estimator__max_samples': None,\n",
       " 'estimator__min_impurity_decrease': 0.0,\n",
       " 'estimator__min_samples_leaf': 1,\n",
       " 'estimator__min_samples_split': 2,\n",
       " 'estimator__min_weight_fraction_leaf': 0.0,\n",
       " 'estimator__n_estimators': 100,\n",
       " 'estimator__n_jobs': None,\n",
       " 'estimator__oob_score': False,\n",
       " 'estimator__random_state': None,\n",
       " 'estimator__verbose': 0,\n",
       " 'estimator__warm_start': False,\n",
       " 'estimator': RandomForestClassifier(),\n",
       " 'learning_rate': 1.0,\n",
       " 'n_estimators': 50,\n",
       " 'random_state': None}"
      ]
     },
     "execution_count": 17,
     "metadata": {},
     "output_type": "execute_result"
    }
   ],
   "source": [
    "ada_rf = AdaBoostClassifier(estimator=RandomForestClassifier())\n",
    "\n",
    "ada_rf.get_params()"
   ]
  },
  {
   "cell_type": "code",
   "execution_count": 18,
   "id": "622d5095-845b-4f97-9c1d-f332697a9b53",
   "metadata": {},
   "outputs": [],
   "source": [
    "ada_rf_params = {\n",
    "    'estimator__n_estimators': [100, 150],\n",
    "    'estimator__max_depth': [1, 2, 3],\n",
    "    'estimator__min_samples_split': [2, 3, 4],\n",
    "    'estimator__min_samples_leaf': [1, 2, 3],\n",
    "    'estimator__random_state': [42],\n",
    "    'learning_rate': [0.1, 1, 5],\n",
    "    'n_estimators': [50, 100],\n",
    "    'random_state': [42]\n",
    "}"
   ]
  },
  {
   "cell_type": "code",
   "execution_count": 19,
   "id": "35c3e798-e944-4d3c-90d7-a4612248cd60",
   "metadata": {},
   "outputs": [],
   "source": [
    "# esitmate_gridsearch_time(ada_rf, ada_rf_params, processors=8)"
   ]
  },
  {
   "cell_type": "code",
   "execution_count": 20,
   "id": "f27ed9d5-9928-4298-b3a7-583a9bd2c39a",
   "metadata": {
    "tags": []
   },
   "outputs": [],
   "source": [
    "ada_rf_gs = GridSearchCV(ada_rf, param_grid=ada_rf_params, verbose=1, n_jobs=-1)"
   ]
  },
  {
   "cell_type": "code",
   "execution_count": 21,
   "id": "598f16c3-002e-4ff6-8220-8ad5c69360fe",
   "metadata": {},
   "outputs": [],
   "source": [
    "ada_rf_gs.fit(X_train_cv, y_train)"
   ]
  },
  {
   "cell_type": "code",
   "execution_count": 60,
   "id": "1e5fc756-553a-4766-be0d-0f86b3d72f5e",
   "metadata": {},
   "outputs": [],
   "source": [
    "with open('../models/ada_boost_random_forest_gridsearch_title_model.pkl', 'wb') as pickle_out:\n",
    "    pickle_out = pickle.dump(ada_rf_gs, pickle_out)"
   ]
  },
  {
   "cell_type": "code",
   "execution_count": 22,
   "id": "acd293a5-a1d3-43cb-b445-c11a8ad5e4ff",
   "metadata": {},
   "outputs": [
    {
     "data": {
      "text/html": [
       "<style>#sk-container-id-1 {color: black;background-color: white;}#sk-container-id-1 pre{padding: 0;}#sk-container-id-1 div.sk-toggleable {background-color: white;}#sk-container-id-1 label.sk-toggleable__label {cursor: pointer;display: block;width: 100%;margin-bottom: 0;padding: 0.3em;box-sizing: border-box;text-align: center;}#sk-container-id-1 label.sk-toggleable__label-arrow:before {content: \"▸\";float: left;margin-right: 0.25em;color: #696969;}#sk-container-id-1 label.sk-toggleable__label-arrow:hover:before {color: black;}#sk-container-id-1 div.sk-estimator:hover label.sk-toggleable__label-arrow:before {color: black;}#sk-container-id-1 div.sk-toggleable__content {max-height: 0;max-width: 0;overflow: hidden;text-align: left;background-color: #f0f8ff;}#sk-container-id-1 div.sk-toggleable__content pre {margin: 0.2em;color: black;border-radius: 0.25em;background-color: #f0f8ff;}#sk-container-id-1 input.sk-toggleable__control:checked~div.sk-toggleable__content {max-height: 200px;max-width: 100%;overflow: auto;}#sk-container-id-1 input.sk-toggleable__control:checked~label.sk-toggleable__label-arrow:before {content: \"▾\";}#sk-container-id-1 div.sk-estimator input.sk-toggleable__control:checked~label.sk-toggleable__label {background-color: #d4ebff;}#sk-container-id-1 div.sk-label input.sk-toggleable__control:checked~label.sk-toggleable__label {background-color: #d4ebff;}#sk-container-id-1 input.sk-hidden--visually {border: 0;clip: rect(1px 1px 1px 1px);clip: rect(1px, 1px, 1px, 1px);height: 1px;margin: -1px;overflow: hidden;padding: 0;position: absolute;width: 1px;}#sk-container-id-1 div.sk-estimator {font-family: monospace;background-color: #f0f8ff;border: 1px dotted black;border-radius: 0.25em;box-sizing: border-box;margin-bottom: 0.5em;}#sk-container-id-1 div.sk-estimator:hover {background-color: #d4ebff;}#sk-container-id-1 div.sk-parallel-item::after {content: \"\";width: 100%;border-bottom: 1px solid gray;flex-grow: 1;}#sk-container-id-1 div.sk-label:hover label.sk-toggleable__label {background-color: #d4ebff;}#sk-container-id-1 div.sk-serial::before {content: \"\";position: absolute;border-left: 1px solid gray;box-sizing: border-box;top: 0;bottom: 0;left: 50%;z-index: 0;}#sk-container-id-1 div.sk-serial {display: flex;flex-direction: column;align-items: center;background-color: white;padding-right: 0.2em;padding-left: 0.2em;position: relative;}#sk-container-id-1 div.sk-item {position: relative;z-index: 1;}#sk-container-id-1 div.sk-parallel {display: flex;align-items: stretch;justify-content: center;background-color: white;position: relative;}#sk-container-id-1 div.sk-item::before, #sk-container-id-1 div.sk-parallel-item::before {content: \"\";position: absolute;border-left: 1px solid gray;box-sizing: border-box;top: 0;bottom: 0;left: 50%;z-index: -1;}#sk-container-id-1 div.sk-parallel-item {display: flex;flex-direction: column;z-index: 1;position: relative;background-color: white;}#sk-container-id-1 div.sk-parallel-item:first-child::after {align-self: flex-end;width: 50%;}#sk-container-id-1 div.sk-parallel-item:last-child::after {align-self: flex-start;width: 50%;}#sk-container-id-1 div.sk-parallel-item:only-child::after {width: 0;}#sk-container-id-1 div.sk-dashed-wrapped {border: 1px dashed gray;margin: 0 0.4em 0.5em 0.4em;box-sizing: border-box;padding-bottom: 0.4em;background-color: white;}#sk-container-id-1 div.sk-label label {font-family: monospace;font-weight: bold;display: inline-block;line-height: 1.2em;}#sk-container-id-1 div.sk-label-container {text-align: center;}#sk-container-id-1 div.sk-container {/* jupyter's `normalize.less` sets `[hidden] { display: none; }` but bootstrap.min.css set `[hidden] { display: none !important; }` so we also need the `!important` here to be able to override the default hidden behavior on the sphinx rendered scikit-learn.org. See: https://github.com/scikit-learn/scikit-learn/issues/21755 */display: inline-block !important;position: relative;}#sk-container-id-1 div.sk-text-repr-fallback {display: none;}</style><div id=\"sk-container-id-1\" class=\"sk-top-container\"><div class=\"sk-text-repr-fallback\"><pre>AdaBoostClassifier(estimator=RandomForestClassifier(max_depth=3,\n",
       "                                                    min_samples_leaf=2,\n",
       "                                                    n_estimators=150,\n",
       "                                                    random_state=42),\n",
       "                   learning_rate=1, n_estimators=100, random_state=42)</pre><b>In a Jupyter environment, please rerun this cell to show the HTML representation or trust the notebook. <br />On GitHub, the HTML representation is unable to render, please try loading this page with nbviewer.org.</b></div><div class=\"sk-container\" hidden><div class=\"sk-item sk-dashed-wrapped\"><div class=\"sk-label-container\"><div class=\"sk-label sk-toggleable\"><input class=\"sk-toggleable__control sk-hidden--visually\" id=\"sk-estimator-id-1\" type=\"checkbox\" ><label for=\"sk-estimator-id-1\" class=\"sk-toggleable__label sk-toggleable__label-arrow\">AdaBoostClassifier</label><div class=\"sk-toggleable__content\"><pre>AdaBoostClassifier(estimator=RandomForestClassifier(max_depth=3,\n",
       "                                                    min_samples_leaf=2,\n",
       "                                                    n_estimators=150,\n",
       "                                                    random_state=42),\n",
       "                   learning_rate=1, n_estimators=100, random_state=42)</pre></div></div></div><div class=\"sk-parallel\"><div class=\"sk-parallel-item\"><div class=\"sk-item\"><div class=\"sk-label-container\"><div class=\"sk-label sk-toggleable\"><input class=\"sk-toggleable__control sk-hidden--visually\" id=\"sk-estimator-id-2\" type=\"checkbox\" ><label for=\"sk-estimator-id-2\" class=\"sk-toggleable__label sk-toggleable__label-arrow\">estimator: RandomForestClassifier</label><div class=\"sk-toggleable__content\"><pre>RandomForestClassifier(max_depth=3, min_samples_leaf=2, n_estimators=150,\n",
       "                       random_state=42)</pre></div></div></div><div class=\"sk-serial\"><div class=\"sk-item\"><div class=\"sk-estimator sk-toggleable\"><input class=\"sk-toggleable__control sk-hidden--visually\" id=\"sk-estimator-id-3\" type=\"checkbox\" ><label for=\"sk-estimator-id-3\" class=\"sk-toggleable__label sk-toggleable__label-arrow\">RandomForestClassifier</label><div class=\"sk-toggleable__content\"><pre>RandomForestClassifier(max_depth=3, min_samples_leaf=2, n_estimators=150,\n",
       "                       random_state=42)</pre></div></div></div></div></div></div></div></div></div></div>"
      ],
      "text/plain": [
       "AdaBoostClassifier(estimator=RandomForestClassifier(max_depth=3,\n",
       "                                                    min_samples_leaf=2,\n",
       "                                                    n_estimators=150,\n",
       "                                                    random_state=42),\n",
       "                   learning_rate=1, n_estimators=100, random_state=42)"
      ]
     },
     "execution_count": 22,
     "metadata": {},
     "output_type": "execute_result"
    }
   ],
   "source": [
    "ada_rf_gs.best_estimator_"
   ]
  },
  {
   "cell_type": "code",
   "execution_count": 23,
   "id": "24b68d5c-fba3-412e-9a1f-c723043c7690",
   "metadata": {},
   "outputs": [
    {
     "data": {
      "text/plain": [
       "0.8243707897498392"
      ]
     },
     "execution_count": 23,
     "metadata": {},
     "output_type": "execute_result"
    }
   ],
   "source": [
    "ada_rf_gs.best_score_"
   ]
  },
  {
   "cell_type": "code",
   "execution_count": 24,
   "id": "dacedeb4-d16a-473e-8e50-2cdbbc5a3fce",
   "metadata": {},
   "outputs": [
    {
     "data": {
      "text/plain": [
       "{'estimator__max_depth': 3,\n",
       " 'estimator__min_samples_leaf': 2,\n",
       " 'estimator__min_samples_split': 2,\n",
       " 'estimator__n_estimators': 150,\n",
       " 'estimator__random_state': 42,\n",
       " 'learning_rate': 1,\n",
       " 'n_estimators': 100,\n",
       " 'random_state': 42}"
      ]
     },
     "execution_count": 24,
     "metadata": {},
     "output_type": "execute_result"
    }
   ],
   "source": [
    "ada_rf_gs.best_params_"
   ]
  },
  {
   "cell_type": "code",
   "execution_count": 26,
   "id": "a1f9002f-f822-4547-938a-354cd78e0815",
   "metadata": {},
   "outputs": [
    {
     "data": {
      "text/plain": [
       "(0.8973538819424252, 0.8160418482999128)"
      ]
     },
     "execution_count": 26,
     "metadata": {},
     "output_type": "execute_result"
    }
   ],
   "source": [
    "ada_rf_gs.score(X_train_cv, y_train), ada_rf_gs.score(X_test_cv, y_test)"
   ]
  },
  {
   "cell_type": "code",
   "execution_count": null,
   "id": "aeb3ec6d-ee2c-4d54-896e-9da8450d93e2",
   "metadata": {},
   "outputs": [],
   "source": []
  },
  {
   "cell_type": "markdown",
   "id": "d2cf6675-f214-405d-b813-7f116a478679",
   "metadata": {},
   "source": [
    "## ADA Boosted Logistic Regression"
   ]
  },
  {
   "cell_type": "code",
   "execution_count": 27,
   "id": "ef35159c-d277-40fe-b4d9-e02d7cf945a0",
   "metadata": {},
   "outputs": [],
   "source": [
    "ada_log = AdaBoostClassifier(estimator=LogisticRegression())"
   ]
  },
  {
   "cell_type": "code",
   "execution_count": 52,
   "id": "996e0f08-37c3-45c0-b0d5-61f51a545de0",
   "metadata": {},
   "outputs": [],
   "source": [
    "ada_log_params = {\n",
    "    'estimator__penalty': ['l1', 'l2', 'elasticnet', None],\n",
    "    'estimator__solver': ['saga'],\n",
    "    'estimator__C': [0.1, 1, 10],\n",
    "    'estimator__random_state': [42],\n",
    "    'estimator__max_iter': [10000],\n",
    "    'learning_rate': [0.1, 1, 5],\n",
    "    'n_estimators': [50, 100],\n",
    "    'random_state': [42]\n",
    "}"
   ]
  },
  {
   "cell_type": "code",
   "execution_count": 53,
   "id": "3aa6c5b2-ebba-4b06-9323-ead9f537fe7e",
   "metadata": {},
   "outputs": [],
   "source": [
    "# esitmate_gridsearch_time(ada_log, ada_log_params, processors=8)"
   ]
  },
  {
   "cell_type": "code",
   "execution_count": 54,
   "id": "13be2692-ebfe-4690-afb8-82f4a656ca93",
   "metadata": {},
   "outputs": [],
   "source": [
    "ada_log_gs = GridSearchCV(ada_log, param_grid=ada_log_params, verbose=1, n_jobs=-1)"
   ]
  },
  {
   "cell_type": "code",
   "execution_count": 55,
   "id": "90f73273-38ae-4304-a931-878e13c8dd2a",
   "metadata": {
    "scrolled": true,
    "tags": []
   },
   "outputs": [],
   "source": [
    "ada_log_gs.fit(X_train_cv, y_train)"
   ]
  },
  {
   "cell_type": "code",
   "execution_count": 59,
   "id": "60359cac-ca61-4129-abc5-09d62bfd8dfd",
   "metadata": {
    "scrolled": true,
    "tags": []
   },
   "outputs": [],
   "source": [
    "with open('../models/ada_boost_log_gridsearch_title_model.pkl', 'wb') as pickle_out:\n",
    "    pickle_out = pickle.dump(ada_log_gs, pickle_out)"
   ]
  },
  {
   "cell_type": "code",
   "execution_count": 56,
   "id": "f1b182fd-d22d-4b2f-b960-24332cc3e47c",
   "metadata": {},
   "outputs": [
    {
     "data": {
      "text/plain": [
       "0.8252428827730949"
      ]
     },
     "execution_count": 56,
     "metadata": {},
     "output_type": "execute_result"
    }
   ],
   "source": [
    "ada_log_gs.best_score_"
   ]
  },
  {
   "cell_type": "code",
   "execution_count": 57,
   "id": "0ce7891d-f530-49c9-a1a4-427478bc868a",
   "metadata": {},
   "outputs": [
    {
     "data": {
      "text/plain": [
       "{'estimator__C': 10,\n",
       " 'estimator__max_iter': 10000,\n",
       " 'estimator__penalty': 'l2',\n",
       " 'estimator__random_state': 42,\n",
       " 'estimator__solver': 'saga',\n",
       " 'learning_rate': 1,\n",
       " 'n_estimators': 100,\n",
       " 'random_state': 42}"
      ]
     },
     "execution_count": 57,
     "metadata": {},
     "output_type": "execute_result"
    }
   ],
   "source": [
    "ada_log_gs.best_params_"
   ]
  },
  {
   "cell_type": "code",
   "execution_count": 58,
   "id": "d37c7e8c-dbb7-42ba-8a7f-4bfcf7a1d27d",
   "metadata": {},
   "outputs": [
    {
     "data": {
      "text/plain": [
       "(0.902587961616749, 0.8221447253705318)"
      ]
     },
     "execution_count": 58,
     "metadata": {},
     "output_type": "execute_result"
    }
   ],
   "source": [
    "ada_log_gs.score(X_train_cv, y_train), ada_log_gs.score(X_test_cv, y_test)"
   ]
  },
  {
   "cell_type": "code",
   "execution_count": null,
   "id": "58e49186-973f-4022-867b-0d0e4c86f961",
   "metadata": {},
   "outputs": [],
   "source": []
  }
 ],
 "metadata": {
  "kernelspec": {
   "display_name": "Python 3 (ipykernel)",
   "language": "python",
   "name": "python3"
  },
  "language_info": {
   "codemirror_mode": {
    "name": "ipython",
    "version": 3
   },
   "file_extension": ".py",
   "mimetype": "text/x-python",
   "name": "python",
   "nbconvert_exporter": "python",
   "pygments_lexer": "ipython3",
   "version": "3.9.16"
  }
 },
 "nbformat": 4,
 "nbformat_minor": 5
}

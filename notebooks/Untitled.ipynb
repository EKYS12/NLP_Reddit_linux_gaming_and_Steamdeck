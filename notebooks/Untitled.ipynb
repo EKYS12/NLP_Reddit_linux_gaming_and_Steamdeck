{
 "cells": [
  {
   "cell_type": "code",
   "execution_count": 1,
   "id": "50bc1ceb-f88e-4154-816f-9fcec13d7f55",
   "metadata": {},
   "outputs": [],
   "source": [
    "import pandas as pd"
   ]
  },
  {
   "cell_type": "code",
   "execution_count": 2,
   "id": "91cc20df-f049-4f29-84f6-ce68288f1a67",
   "metadata": {},
   "outputs": [],
   "source": [
    "df = pd.read_csv('../data/linux_gaming_SteamDeck_merged_comment_data.csv')"
   ]
  },
  {
   "cell_type": "code",
   "execution_count": 3,
   "id": "60294ae4-4fe5-42f9-9fdb-14c7c806ee8b",
   "metadata": {},
   "outputs": [
    {
     "data": {
      "text/plain": [
       "(495846, 3)"
      ]
     },
     "execution_count": 3,
     "metadata": {},
     "output_type": "execute_result"
    }
   ],
   "source": [
    "df.shape"
   ]
  },
  {
   "cell_type": "code",
   "execution_count": 4,
   "id": "ea605e75-6be2-41d5-b8a9-9aa0d6d55d16",
   "metadata": {},
   "outputs": [],
   "source": [
    "df2 = pd.read_csv('../data/linux_gaming_SteamDeck_merged_title_data.csv')"
   ]
  },
  {
   "cell_type": "code",
   "execution_count": 5,
   "id": "18710a1e-ec26-4d03-a0de-c9f1380e3170",
   "metadata": {},
   "outputs": [
    {
     "data": {
      "text/plain": [
       "(6305, 3)"
      ]
     },
     "execution_count": 5,
     "metadata": {},
     "output_type": "execute_result"
    }
   ],
   "source": [
    "df2.shape"
   ]
  },
  {
   "cell_type": "code",
   "execution_count": 6,
   "id": "9e8f2c62-c055-454b-a1f9-e5fddae7b8d9",
   "metadata": {},
   "outputs": [
    {
     "data": {
      "text/plain": [
       "SteamDeck       326472\n",
       "linux_gaming    169374\n",
       "Name: subreddit, dtype: int64"
      ]
     },
     "execution_count": 6,
     "metadata": {},
     "output_type": "execute_result"
    }
   ],
   "source": [
    "df['subreddit'].value_counts()"
   ]
  },
  {
   "cell_type": "code",
   "execution_count": 7,
   "id": "c9c5e905-cff0-420d-929d-d2a5ac895810",
   "metadata": {},
   "outputs": [
    {
     "data": {
      "text/plain": [
       "SteamDeck       4012\n",
       "linux_gaming    2293\n",
       "Name: subreddit, dtype: int64"
      ]
     },
     "execution_count": 7,
     "metadata": {},
     "output_type": "execute_result"
    }
   ],
   "source": [
    "df2['subreddit'].value_counts()"
   ]
  },
  {
   "cell_type": "code",
   "execution_count": null,
   "id": "1c22044a-36fb-4e58-ac25-15c0f4483c49",
   "metadata": {},
   "outputs": [],
   "source": []
  }
 ],
 "metadata": {
  "kernelspec": {
   "display_name": "Python 3 (ipykernel)",
   "language": "python",
   "name": "python3"
  },
  "language_info": {
   "codemirror_mode": {
    "name": "ipython",
    "version": 3
   },
   "file_extension": ".py",
   "mimetype": "text/x-python",
   "name": "python",
   "nbconvert_exporter": "python",
   "pygments_lexer": "ipython3",
   "version": "3.9.16"
  }
 },
 "nbformat": 4,
 "nbformat_minor": 5
}

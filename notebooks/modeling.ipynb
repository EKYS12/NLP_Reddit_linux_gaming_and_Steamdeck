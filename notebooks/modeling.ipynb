{
 "cells": [
  {
   "cell_type": "markdown",
   "id": "dde07eb8-5b5f-4179-83fa-3011e697c843",
   "metadata": {},
   "source": [
    "# Modeling"
   ]
  },
  {
   "cell_type": "code",
   "execution_count": 1,
   "id": "f0b82448-b8a7-4e59-941b-4f016dfca0a4",
   "metadata": {},
   "outputs": [],
   "source": [
    "import pandas as pd\n",
    "import numpy as np\n",
    "import matplotlib.pyplot as plt\n",
    "import seaborn as sns\n",
    "\n",
    "from sklearn.linear_model import LogisticRegression\n",
    "from sklearn.tree import DecisionTreeClassifier\n",
    "from sklearn.ensemble import RandomForestClassifier, AdaBoostClassifier\n",
    "from sklearn.model_selection import train_test_split, GridSearchCV\n",
    "from sklearn.metrics import mean_squared_error\n",
    "from nltk.corpus import stopwords\n",
    "from nltk.stem import WordNetLemmatizer, PorterStemmer\n",
    "from nltk.tokenize import word_tokenize\n",
    "from sklearn.feature_extraction.text import CountVectorizer\n",
    "from sklearn.pipeline import Pipeline\n",
    "\n",
    "import timeit"
   ]
  },
  {
   "cell_type": "code",
   "execution_count": 2,
   "id": "9be6546c-cde2-46ab-91c1-f9234af910bd",
   "metadata": {},
   "outputs": [],
   "source": [
    "titles = pd.read_parquet('../data/linux_gaming_SteamDeck_clean_title_data.parquet')\n",
    "comments = pd.read_parquet('../data/linux_gaming_SteamDeck_clean_comment_data.parquet')"
   ]
  },
  {
   "cell_type": "code",
   "execution_count": 3,
   "id": "69693b3e-2887-4468-8298-03a5cdad636b",
   "metadata": {},
   "outputs": [
    {
     "data": {
      "text/html": [
       "<div>\n",
       "<style scoped>\n",
       "    .dataframe tbody tr th:only-of-type {\n",
       "        vertical-align: middle;\n",
       "    }\n",
       "\n",
       "    .dataframe tbody tr th {\n",
       "        vertical-align: top;\n",
       "    }\n",
       "\n",
       "    .dataframe thead th {\n",
       "        text-align: right;\n",
       "    }\n",
       "</style>\n",
       "<table border=\"1\" class=\"dataframe\">\n",
       "  <thead>\n",
       "    <tr style=\"text-align: right;\">\n",
       "      <th></th>\n",
       "      <th>title_id</th>\n",
       "      <th>title</th>\n",
       "      <th>subreddit</th>\n",
       "      <th>title_length</th>\n",
       "      <th>title_word_count</th>\n",
       "      <th>negative_sentiment</th>\n",
       "      <th>neutral_sentiment</th>\n",
       "      <th>positive_sentiment</th>\n",
       "      <th>compund_sentiment</th>\n",
       "    </tr>\n",
       "  </thead>\n",
       "  <tbody>\n",
       "    <tr>\n",
       "      <th>0</th>\n",
       "      <td>pu1k55</td>\n",
       "      <td>epic games announce full easy anti cheat for l...</td>\n",
       "      <td>linux_gaming</td>\n",
       "      <td>74</td>\n",
       "      <td>12</td>\n",
       "      <td>0.308</td>\n",
       "      <td>0.523</td>\n",
       "      <td>0.169</td>\n",
       "      <td>-0.3400</td>\n",
       "    </tr>\n",
       "    <tr>\n",
       "      <th>1</th>\n",
       "      <td>9pkgwj</td>\n",
       "      <td>the struggles of being a modern age linux gamer</td>\n",
       "      <td>linux_gaming</td>\n",
       "      <td>48</td>\n",
       "      <td>9</td>\n",
       "      <td>0.263</td>\n",
       "      <td>0.737</td>\n",
       "      <td>0.000</td>\n",
       "      <td>-0.3612</td>\n",
       "    </tr>\n",
       "    <tr>\n",
       "      <th>2</th>\n",
       "      <td>q8trki</td>\n",
       "      <td>steam has banned all games that utilise blockc...</td>\n",
       "      <td>linux_gaming</td>\n",
       "      <td>100</td>\n",
       "      <td>15</td>\n",
       "      <td>0.176</td>\n",
       "      <td>0.824</td>\n",
       "      <td>0.000</td>\n",
       "      <td>-0.4588</td>\n",
       "    </tr>\n",
       "    <tr>\n",
       "      <th>3</th>\n",
       "      <td>ijat04</td>\n",
       "      <td>they didn't expect linux gaming in 2007</td>\n",
       "      <td>linux_gaming</td>\n",
       "      <td>39</td>\n",
       "      <td>7</td>\n",
       "      <td>0.000</td>\n",
       "      <td>1.000</td>\n",
       "      <td>0.000</td>\n",
       "      <td>0.0000</td>\n",
       "    </tr>\n",
       "    <tr>\n",
       "      <th>4</th>\n",
       "      <td>re13t3</td>\n",
       "      <td>ltt are planning to include linux compatibilit...</td>\n",
       "      <td>linux_gaming</td>\n",
       "      <td>74</td>\n",
       "      <td>11</td>\n",
       "      <td>0.000</td>\n",
       "      <td>1.000</td>\n",
       "      <td>0.000</td>\n",
       "      <td>0.0000</td>\n",
       "    </tr>\n",
       "  </tbody>\n",
       "</table>\n",
       "</div>"
      ],
      "text/plain": [
       "  title_id                                              title     subreddit  \\\n",
       "0   pu1k55  epic games announce full easy anti cheat for l...  linux_gaming   \n",
       "1   9pkgwj    the struggles of being a modern age linux gamer  linux_gaming   \n",
       "2   q8trki  steam has banned all games that utilise blockc...  linux_gaming   \n",
       "3   ijat04            they didn't expect linux gaming in 2007  linux_gaming   \n",
       "4   re13t3  ltt are planning to include linux compatibilit...  linux_gaming   \n",
       "\n",
       "   title_length  title_word_count  negative_sentiment  neutral_sentiment  \\\n",
       "0            74                12               0.308              0.523   \n",
       "1            48                 9               0.263              0.737   \n",
       "2           100                15               0.176              0.824   \n",
       "3            39                 7               0.000              1.000   \n",
       "4            74                11               0.000              1.000   \n",
       "\n",
       "   positive_sentiment  compund_sentiment  \n",
       "0               0.169            -0.3400  \n",
       "1               0.000            -0.3612  \n",
       "2               0.000            -0.4588  \n",
       "3               0.000             0.0000  \n",
       "4               0.000             0.0000  "
      ]
     },
     "execution_count": 3,
     "metadata": {},
     "output_type": "execute_result"
    }
   ],
   "source": [
    "titles.head()"
   ]
  },
  {
   "cell_type": "code",
   "execution_count": 4,
   "id": "81ed8ae0-beb1-4cc9-84e7-02c0394440a3",
   "metadata": {},
   "outputs": [
    {
     "data": {
      "text/html": [
       "<div>\n",
       "<style scoped>\n",
       "    .dataframe tbody tr th:only-of-type {\n",
       "        vertical-align: middle;\n",
       "    }\n",
       "\n",
       "    .dataframe tbody tr th {\n",
       "        vertical-align: top;\n",
       "    }\n",
       "\n",
       "    .dataframe thead th {\n",
       "        text-align: right;\n",
       "    }\n",
       "</style>\n",
       "<table border=\"1\" class=\"dataframe\">\n",
       "  <thead>\n",
       "    <tr style=\"text-align: right;\">\n",
       "      <th></th>\n",
       "      <th>comment_id</th>\n",
       "      <th>comments</th>\n",
       "      <th>subreddit</th>\n",
       "      <th>comment_length</th>\n",
       "      <th>comment_word_count</th>\n",
       "      <th>negative_sentiment</th>\n",
       "      <th>neutral_sentiment</th>\n",
       "      <th>positive_sentiment</th>\n",
       "      <th>compund_sentiment</th>\n",
       "    </tr>\n",
       "  </thead>\n",
       "  <tbody>\n",
       "    <tr>\n",
       "      <th>0</th>\n",
       "      <td>jibfcl5</td>\n",
       "      <td>fun fact the steam deck logo is just a pokebal...</td>\n",
       "      <td>SteamDeck</td>\n",
       "      <td>190</td>\n",
       "      <td>33</td>\n",
       "      <td>0.077</td>\n",
       "      <td>0.675</td>\n",
       "      <td>0.247</td>\n",
       "      <td>0.7783</td>\n",
       "    </tr>\n",
       "    <tr>\n",
       "      <th>1</th>\n",
       "      <td>jib4baj</td>\n",
       "      <td>no it's not the logo you see on the memory mak...</td>\n",
       "      <td>SteamDeck</td>\n",
       "      <td>635</td>\n",
       "      <td>90</td>\n",
       "      <td>0.077</td>\n",
       "      <td>0.889</td>\n",
       "      <td>0.034</td>\n",
       "      <td>-0.5994</td>\n",
       "    </tr>\n",
       "    <tr>\n",
       "      <th>2</th>\n",
       "      <td>jibacht</td>\n",
       "      <td>glad this isn't getting the traction you hoped...</td>\n",
       "      <td>SteamDeck</td>\n",
       "      <td>50</td>\n",
       "      <td>9</td>\n",
       "      <td>0.000</td>\n",
       "      <td>0.556</td>\n",
       "      <td>0.444</td>\n",
       "      <td>0.6808</td>\n",
       "    </tr>\n",
       "    <tr>\n",
       "      <th>3</th>\n",
       "      <td>jib5m0m</td>\n",
       "      <td>can't tell if you actually thought it was</td>\n",
       "      <td>SteamDeck</td>\n",
       "      <td>41</td>\n",
       "      <td>8</td>\n",
       "      <td>0.000</td>\n",
       "      <td>1.000</td>\n",
       "      <td>0.000</td>\n",
       "      <td>0.0000</td>\n",
       "    </tr>\n",
       "    <tr>\n",
       "      <th>4</th>\n",
       "      <td>jib5qio</td>\n",
       "      <td>this was inspired by this because it looks lik...</td>\n",
       "      <td>SteamDeck</td>\n",
       "      <td>115</td>\n",
       "      <td>23</td>\n",
       "      <td>0.000</td>\n",
       "      <td>0.769</td>\n",
       "      <td>0.231</td>\n",
       "      <td>0.6908</td>\n",
       "    </tr>\n",
       "  </tbody>\n",
       "</table>\n",
       "</div>"
      ],
      "text/plain": [
       "  comment_id                                           comments  subreddit  \\\n",
       "0    jibfcl5  fun fact the steam deck logo is just a pokebal...  SteamDeck   \n",
       "1    jib4baj  no it's not the logo you see on the memory mak...  SteamDeck   \n",
       "2    jibacht  glad this isn't getting the traction you hoped...  SteamDeck   \n",
       "3    jib5m0m          can't tell if you actually thought it was  SteamDeck   \n",
       "4    jib5qio  this was inspired by this because it looks lik...  SteamDeck   \n",
       "\n",
       "   comment_length  comment_word_count  negative_sentiment  neutral_sentiment  \\\n",
       "0             190                  33               0.077              0.675   \n",
       "1             635                  90               0.077              0.889   \n",
       "2              50                   9               0.000              0.556   \n",
       "3              41                   8               0.000              1.000   \n",
       "4             115                  23               0.000              0.769   \n",
       "\n",
       "   positive_sentiment  compund_sentiment  \n",
       "0               0.247             0.7783  \n",
       "1               0.034            -0.5994  \n",
       "2               0.444             0.6808  \n",
       "3               0.000             0.0000  \n",
       "4               0.231             0.6908  "
      ]
     },
     "execution_count": 4,
     "metadata": {},
     "output_type": "execute_result"
    }
   ],
   "source": [
    "comments.head()"
   ]
  },
  {
   "cell_type": "code",
   "execution_count": 5,
   "id": "8725baea-b420-4d83-848e-19b9b87ef561",
   "metadata": {},
   "outputs": [
    {
     "data": {
      "text/plain": [
       "(6305, 9)"
      ]
     },
     "execution_count": 5,
     "metadata": {},
     "output_type": "execute_result"
    }
   ],
   "source": [
    "titles.shape"
   ]
  },
  {
   "cell_type": "code",
   "execution_count": 6,
   "id": "b7144d05-fece-47f6-a6e0-73d3aa0a14ae",
   "metadata": {},
   "outputs": [
    {
     "data": {
      "text/plain": [
       "(485125, 9)"
      ]
     },
     "execution_count": 6,
     "metadata": {},
     "output_type": "execute_result"
    }
   ],
   "source": [
    "comments.shape"
   ]
  },
  {
   "cell_type": "code",
   "execution_count": 7,
   "id": "6a9e36fc-5e64-4c7e-ac18-8e09d9c598d5",
   "metadata": {},
   "outputs": [
    {
     "data": {
      "text/plain": [
       "SteamDeck       0.63632\n",
       "linux_gaming    0.36368\n",
       "Name: subreddit, dtype: float64"
      ]
     },
     "execution_count": 7,
     "metadata": {},
     "output_type": "execute_result"
    }
   ],
   "source": [
    "titles['subreddit'].value_counts(normalize=True)"
   ]
  },
  {
   "cell_type": "code",
   "execution_count": 8,
   "id": "9f56a3d4-df5c-4b9d-ad21-fcdc8afe2964",
   "metadata": {},
   "outputs": [
    {
     "data": {
      "text/plain": [
       "SteamDeck       0.662013\n",
       "linux_gaming    0.337987\n",
       "Name: subreddit, dtype: float64"
      ]
     },
     "execution_count": 8,
     "metadata": {},
     "output_type": "execute_result"
    }
   ],
   "source": [
    "comments['subreddit'].value_counts(normalize=True)"
   ]
  },
  {
   "cell_type": "markdown",
   "id": "421fff92-cc4b-423d-bf85-914bcb1164af",
   "metadata": {},
   "source": [
    "## Model Balancing\n",
    "\n",
    "We have lots of data, and an imbalance of around 2/3 and 1/3. We can afford to cut out some r/SteamDeck data to get a nice 50-50 splits between the two. We can perform random sampling to pick out the data. This will also help our models run a bit faster. "
   ]
  },
  {
   "cell_type": "code",
   "execution_count": 9,
   "id": "16e38c6b-abe8-481e-a947-b621ac7a8218",
   "metadata": {},
   "outputs": [
    {
     "data": {
      "text/plain": [
       "SteamDeck       4012\n",
       "linux_gaming    2293\n",
       "Name: subreddit, dtype: int64"
      ]
     },
     "execution_count": 9,
     "metadata": {},
     "output_type": "execute_result"
    }
   ],
   "source": [
    "titles['subreddit'].value_counts()"
   ]
  },
  {
   "cell_type": "code",
   "execution_count": 10,
   "id": "7f761db5-d2e3-452a-94eb-3bb1df1668c8",
   "metadata": {},
   "outputs": [
    {
     "data": {
      "text/plain": [
       "SteamDeck       321159\n",
       "linux_gaming    163966\n",
       "Name: subreddit, dtype: int64"
      ]
     },
     "execution_count": 10,
     "metadata": {},
     "output_type": "execute_result"
    }
   ],
   "source": [
    "comments['subreddit'].value_counts()"
   ]
  },
  {
   "cell_type": "code",
   "execution_count": 11,
   "id": "3cdb9889-c6c9-41d2-9fb8-8cd08af76d98",
   "metadata": {},
   "outputs": [
    {
     "data": {
      "text/plain": [
       "2293"
      ]
     },
     "execution_count": 11,
     "metadata": {},
     "output_type": "execute_result"
    }
   ],
   "source": [
    "linux_title_count = titles['subreddit'].value_counts()[1]\n",
    "\n",
    "linux_title_count"
   ]
  },
  {
   "cell_type": "code",
   "execution_count": 12,
   "id": "e883b052-0375-492d-b9b7-d70b30ca4c47",
   "metadata": {},
   "outputs": [
    {
     "data": {
      "text/plain": [
       "163966"
      ]
     },
     "execution_count": 12,
     "metadata": {},
     "output_type": "execute_result"
    }
   ],
   "source": [
    "linux_comment_count = comments['subreddit'].value_counts()[1]\n",
    "\n",
    "linux_comment_count"
   ]
  },
  {
   "cell_type": "markdown",
   "id": "1ef0f029-58e8-4b3d-a745-6ea76e6b7f17",
   "metadata": {},
   "source": [
    "We can actually just get and store the number of observations in our lower represented value, so let's write a function that can balance our datasets for us."
   ]
  },
  {
   "cell_type": "code",
   "execution_count": 13,
   "id": "d5d22795-1547-4243-a3f4-a0dd2cdeea69",
   "metadata": {},
   "outputs": [],
   "source": [
    "def balance_df(df, count):\n",
    "    linux = df[df['subreddit'] == 'linux_gaming']\n",
    "    steam = df[df['subreddit'] == 'SteamDeck'].sample(n=count, random_state=42)\n",
    "    \n",
    "    # concatenate the two subsets into a new DataFrame\n",
    "    new_df = pd.concat([linux, steam])\n",
    "    \n",
    "    # shuffle the new DataFrame\n",
    "    new_df = new_df.sample(frac=1, random_state=42)\n",
    "    \n",
    "    return new_df"
   ]
  },
  {
   "cell_type": "code",
   "execution_count": 14,
   "id": "0ae34d9e-0d27-46c2-978e-9f1f0ad72d56",
   "metadata": {},
   "outputs": [],
   "source": [
    "titles = balance_df(titles, linux_title_count)\n",
    "comments = balance_df(comments, linux_comment_count)"
   ]
  },
  {
   "cell_type": "code",
   "execution_count": 15,
   "id": "18331852-5279-4746-a52b-e66a9832c6ee",
   "metadata": {},
   "outputs": [
    {
     "data": {
      "text/html": [
       "<div>\n",
       "<style scoped>\n",
       "    .dataframe tbody tr th:only-of-type {\n",
       "        vertical-align: middle;\n",
       "    }\n",
       "\n",
       "    .dataframe tbody tr th {\n",
       "        vertical-align: top;\n",
       "    }\n",
       "\n",
       "    .dataframe thead th {\n",
       "        text-align: right;\n",
       "    }\n",
       "</style>\n",
       "<table border=\"1\" class=\"dataframe\">\n",
       "  <thead>\n",
       "    <tr style=\"text-align: right;\">\n",
       "      <th></th>\n",
       "      <th>title_id</th>\n",
       "      <th>title</th>\n",
       "      <th>subreddit</th>\n",
       "      <th>title_length</th>\n",
       "      <th>title_word_count</th>\n",
       "      <th>negative_sentiment</th>\n",
       "      <th>neutral_sentiment</th>\n",
       "      <th>positive_sentiment</th>\n",
       "      <th>compund_sentiment</th>\n",
       "    </tr>\n",
       "  </thead>\n",
       "  <tbody>\n",
       "    <tr>\n",
       "      <th>2345</th>\n",
       "      <td>133ybku</td>\n",
       "      <td>my icons won't go to portrait i've tried unins...</td>\n",
       "      <td>SteamDeck</td>\n",
       "      <td>208</td>\n",
       "      <td>39</td>\n",
       "      <td>0.057</td>\n",
       "      <td>0.914</td>\n",
       "      <td>0.029</td>\n",
       "      <td>-0.2732</td>\n",
       "    </tr>\n",
       "    <tr>\n",
       "      <th>3674</th>\n",
       "      <td>u1loln</td>\n",
       "      <td>i found the perfect stand for my steam deck</td>\n",
       "      <td>SteamDeck</td>\n",
       "      <td>44</td>\n",
       "      <td>9</td>\n",
       "      <td>0.000</td>\n",
       "      <td>0.654</td>\n",
       "      <td>0.346</td>\n",
       "      <td>0.5719</td>\n",
       "    </tr>\n",
       "    <tr>\n",
       "      <th>1183</th>\n",
       "      <td>12srbqu</td>\n",
       "      <td>controller issues on fedora 38</td>\n",
       "      <td>linux_gaming</td>\n",
       "      <td>30</td>\n",
       "      <td>5</td>\n",
       "      <td>0.000</td>\n",
       "      <td>1.000</td>\n",
       "      <td>0.000</td>\n",
       "      <td>0.0000</td>\n",
       "    </tr>\n",
       "    <tr>\n",
       "      <th>100</th>\n",
       "      <td>r74av0</td>\n",
       "      <td>november marked 7 months of linux rising on st...</td>\n",
       "      <td>linux_gaming</td>\n",
       "      <td>69</td>\n",
       "      <td>14</td>\n",
       "      <td>0.000</td>\n",
       "      <td>1.000</td>\n",
       "      <td>0.000</td>\n",
       "      <td>0.0000</td>\n",
       "    </tr>\n",
       "    <tr>\n",
       "      <th>6008</th>\n",
       "      <td>12qfc00</td>\n",
       "      <td>best option for 4 controllers</td>\n",
       "      <td>SteamDeck</td>\n",
       "      <td>29</td>\n",
       "      <td>5</td>\n",
       "      <td>0.000</td>\n",
       "      <td>0.417</td>\n",
       "      <td>0.583</td>\n",
       "      <td>0.6369</td>\n",
       "    </tr>\n",
       "  </tbody>\n",
       "</table>\n",
       "</div>"
      ],
      "text/plain": [
       "     title_id                                              title  \\\n",
       "2345  133ybku  my icons won't go to portrait i've tried unins...   \n",
       "3674   u1loln        i found the perfect stand for my steam deck   \n",
       "1183  12srbqu                     controller issues on fedora 38   \n",
       "100    r74av0  november marked 7 months of linux rising on st...   \n",
       "6008  12qfc00                      best option for 4 controllers   \n",
       "\n",
       "         subreddit  title_length  title_word_count  negative_sentiment  \\\n",
       "2345     SteamDeck           208                39               0.057   \n",
       "3674     SteamDeck            44                 9               0.000   \n",
       "1183  linux_gaming            30                 5               0.000   \n",
       "100   linux_gaming            69                14               0.000   \n",
       "6008     SteamDeck            29                 5               0.000   \n",
       "\n",
       "      neutral_sentiment  positive_sentiment  compund_sentiment  \n",
       "2345              0.914               0.029            -0.2732  \n",
       "3674              0.654               0.346             0.5719  \n",
       "1183              1.000               0.000             0.0000  \n",
       "100               1.000               0.000             0.0000  \n",
       "6008              0.417               0.583             0.6369  "
      ]
     },
     "execution_count": 15,
     "metadata": {},
     "output_type": "execute_result"
    }
   ],
   "source": [
    "titles.head()"
   ]
  },
  {
   "cell_type": "code",
   "execution_count": 16,
   "id": "d6a08f6b-1c5b-45a1-ab3b-b5120cbb4047",
   "metadata": {},
   "outputs": [
    {
     "data": {
      "text/plain": [
       "(4586, 9)"
      ]
     },
     "execution_count": 16,
     "metadata": {},
     "output_type": "execute_result"
    }
   ],
   "source": [
    "titles.shape"
   ]
  },
  {
   "cell_type": "code",
   "execution_count": 17,
   "id": "f1aa9b41-94d4-4861-9838-fee3224fb373",
   "metadata": {},
   "outputs": [
    {
     "data": {
      "text/html": [
       "<div>\n",
       "<style scoped>\n",
       "    .dataframe tbody tr th:only-of-type {\n",
       "        vertical-align: middle;\n",
       "    }\n",
       "\n",
       "    .dataframe tbody tr th {\n",
       "        vertical-align: top;\n",
       "    }\n",
       "\n",
       "    .dataframe thead th {\n",
       "        text-align: right;\n",
       "    }\n",
       "</style>\n",
       "<table border=\"1\" class=\"dataframe\">\n",
       "  <thead>\n",
       "    <tr style=\"text-align: right;\">\n",
       "      <th></th>\n",
       "      <th>comment_id</th>\n",
       "      <th>comments</th>\n",
       "      <th>subreddit</th>\n",
       "      <th>comment_length</th>\n",
       "      <th>comment_word_count</th>\n",
       "      <th>negative_sentiment</th>\n",
       "      <th>neutral_sentiment</th>\n",
       "      <th>positive_sentiment</th>\n",
       "      <th>compund_sentiment</th>\n",
       "    </tr>\n",
       "  </thead>\n",
       "  <tbody>\n",
       "    <tr>\n",
       "      <th>126187</th>\n",
       "      <td>janpo5s</td>\n",
       "      <td>no you'd still need to remove the original scr...</td>\n",
       "      <td>SteamDeck</td>\n",
       "      <td>79</td>\n",
       "      <td>15</td>\n",
       "      <td>0.126</td>\n",
       "      <td>0.743</td>\n",
       "      <td>0.131</td>\n",
       "      <td>0.0258</td>\n",
       "    </tr>\n",
       "    <tr>\n",
       "      <th>480760</th>\n",
       "      <td>ga2tive</td>\n",
       "      <td>i surely hope so hopefully someone can pressur...</td>\n",
       "      <td>linux_gaming</td>\n",
       "      <td>65</td>\n",
       "      <td>11</td>\n",
       "      <td>0.119</td>\n",
       "      <td>0.270</td>\n",
       "      <td>0.611</td>\n",
       "      <td>0.8439</td>\n",
       "    </tr>\n",
       "    <tr>\n",
       "      <th>420963</th>\n",
       "      <td>d906goj</td>\n",
       "      <td>i do blame them for everything that's wrong wi...</td>\n",
       "      <td>linux_gaming</td>\n",
       "      <td>210</td>\n",
       "      <td>38</td>\n",
       "      <td>0.225</td>\n",
       "      <td>0.683</td>\n",
       "      <td>0.093</td>\n",
       "      <td>-0.6124</td>\n",
       "    </tr>\n",
       "    <tr>\n",
       "      <th>310631</th>\n",
       "      <td>ifh5csf</td>\n",
       "      <td>no one person downloading roms is too trivial ...</td>\n",
       "      <td>SteamDeck</td>\n",
       "      <td>372</td>\n",
       "      <td>65</td>\n",
       "      <td>0.158</td>\n",
       "      <td>0.725</td>\n",
       "      <td>0.117</td>\n",
       "      <td>-0.6254</td>\n",
       "    </tr>\n",
       "    <tr>\n",
       "      <th>391488</th>\n",
       "      <td>iqh6cip</td>\n",
       "      <td>true not all games are competitive which is wh...</td>\n",
       "      <td>linux_gaming</td>\n",
       "      <td>657</td>\n",
       "      <td>109</td>\n",
       "      <td>0.151</td>\n",
       "      <td>0.713</td>\n",
       "      <td>0.136</td>\n",
       "      <td>-0.2500</td>\n",
       "    </tr>\n",
       "  </tbody>\n",
       "</table>\n",
       "</div>"
      ],
      "text/plain": [
       "       comment_id                                           comments  \\\n",
       "126187    janpo5s  no you'd still need to remove the original scr...   \n",
       "480760    ga2tive  i surely hope so hopefully someone can pressur...   \n",
       "420963    d906goj  i do blame them for everything that's wrong wi...   \n",
       "310631    ifh5csf  no one person downloading roms is too trivial ...   \n",
       "391488    iqh6cip  true not all games are competitive which is wh...   \n",
       "\n",
       "           subreddit  comment_length  comment_word_count  negative_sentiment  \\\n",
       "126187     SteamDeck              79                  15               0.126   \n",
       "480760  linux_gaming              65                  11               0.119   \n",
       "420963  linux_gaming             210                  38               0.225   \n",
       "310631     SteamDeck             372                  65               0.158   \n",
       "391488  linux_gaming             657                 109               0.151   \n",
       "\n",
       "        neutral_sentiment  positive_sentiment  compund_sentiment  \n",
       "126187              0.743               0.131             0.0258  \n",
       "480760              0.270               0.611             0.8439  \n",
       "420963              0.683               0.093            -0.6124  \n",
       "310631              0.725               0.117            -0.6254  \n",
       "391488              0.713               0.136            -0.2500  "
      ]
     },
     "execution_count": 17,
     "metadata": {},
     "output_type": "execute_result"
    }
   ],
   "source": [
    "comments.head()"
   ]
  },
  {
   "cell_type": "code",
   "execution_count": 18,
   "id": "f9c21c26-e80f-4450-9318-f0c947cd8f7f",
   "metadata": {},
   "outputs": [
    {
     "data": {
      "text/plain": [
       "(327932, 9)"
      ]
     },
     "execution_count": 18,
     "metadata": {},
     "output_type": "execute_result"
    }
   ],
   "source": [
    "comments.shape"
   ]
  },
  {
   "cell_type": "markdown",
   "id": "a913ac5e-6e2d-47e1-9657-72f283179d97",
   "metadata": {},
   "source": [
    "Even though we cut out a fair bit of data, we're still left with more than enough of what we would want."
   ]
  },
  {
   "cell_type": "markdown",
   "id": "d21a2ef5-41f6-4d4e-b70a-693f77b65251",
   "metadata": {},
   "source": [
    "## We'll First do Titles"
   ]
  },
  {
   "cell_type": "code",
   "execution_count": 19,
   "id": "8d8e17c7-5fae-4ae6-80db-b9545f3455d8",
   "metadata": {},
   "outputs": [],
   "source": [
    "X = comments['comments']\n",
    "y = comments['comments']\n",
    "\n",
    "X_train, X_test, y_train, y_test = train_test_split(X, y, random_state=42)"
   ]
  },
  {
   "cell_type": "markdown",
   "id": "0a80961a-e077-48ad-b239-818b15442135",
   "metadata": {},
   "source": [
    "## Pre-Processing"
   ]
  },
  {
   "cell_type": "code",
   "execution_count": 20,
   "id": "9edfe820-eb31-4c43-b8fa-fb47ef9927e0",
   "metadata": {},
   "outputs": [],
   "source": [
    "# Define stopwords, lemmatizer, and stemmer\n",
    "stop_words = stopwords.words('english')\n",
    "lemmatizer = WordNetLemmatizer()\n",
    "stemmer = PorterStemmer()"
   ]
  },
  {
   "cell_type": "code",
   "execution_count": 21,
   "id": "2feb7983-0210-4832-8374-9b3b5bee8acd",
   "metadata": {},
   "outputs": [],
   "source": [
    "# Define a function to preprocess each document\n",
    "def preprocess(text):\n",
    "    # Tokenize text into words\n",
    "    words = word_tokenize(text)\n",
    "    # Remove stop words\n",
    "    words = [word for word in words if word not in stop_words]\n",
    "    # Lemmatize words\n",
    "    words = [lemmatizer.lemmatize(word) for word in words]\n",
    "    # Stem words\n",
    "    words = [stemmer.stem(word) for word in words]\n",
    "    # Join words back into a string\n",
    "    return ' '.join(words)"
   ]
  },
  {
   "cell_type": "markdown",
   "id": "f1627ac9-da7d-42a3-9da2-861e82a343a6",
   "metadata": {},
   "source": [
    "## Random Forest"
   ]
  },
  {
   "cell_type": "code",
   "execution_count": 25,
   "id": "7ac6c982-e697-4410-bd23-d8a144b4fb61",
   "metadata": {},
   "outputs": [],
   "source": [
    "def esitmate_gridsearch_time(model, param_grid:dict, cv:int=5, processors:int=6):\n",
    "    times = []\n",
    "    for _ in range(5):\n",
    "        start = timeit.default_timer()\n",
    "        model.fit(X_train, y_train)\n",
    "        model.score(X_train, y_train)\n",
    "        times.append(timeit.default_timer() - start)\n",
    "\n",
    "    single_train_time = np.array(times).mean() # seconds\n",
    "\n",
    "    combos = 1\n",
    "    for vals in param_grid.values():\n",
    "        combos *= len(vals)\n",
    "\n",
    "    num_models = combos * cv / processors\n",
    "    seconds = num_models * single_train_time\n",
    "    minutes = seconds / 60\n",
    "    hours = minutes / 60\n",
    "\n",
    "    print(hours, minutes, seconds)"
   ]
  },
  {
   "cell_type": "code",
   "execution_count": 22,
   "id": "aa92c2c4-1ae8-40cc-ab11-7d643b361ebe",
   "metadata": {},
   "outputs": [],
   "source": [
    "rf_pipe = Pipeline([\n",
    "    ('cvec', CountVectorizer(preprocessor=preprocess, max_features=1000)),\n",
    "    ('rf', RandomForestClassifier())\n",
    "])"
   ]
  },
  {
   "cell_type": "code",
   "execution_count": 23,
   "id": "622d5095-845b-4f97-9c1d-f332697a9b53",
   "metadata": {},
   "outputs": [],
   "source": [
    "rf_params = {\n",
    "    'rf__n_estimators': [100, 150, 200],\n",
    "    'rf__max_depth': [None, 1, 2, 3, 4, 5],\n",
    "    'rf__min_samples_split': [2, 3, 4],\n",
    "    'rf__min_samples_leaf': [1, 2, 3],\n",
    "    'rf__max_leaf_nodes': [1, 2]\n",
    "}"
   ]
  },
  {
   "cell_type": "code",
   "execution_count": null,
   "id": "35c3e798-e944-4d3c-90d7-a4612248cd60",
   "metadata": {},
   "outputs": [],
   "source": [
    "esitmate_gridsearch_time(rf_pipe, rf_params, processors=8)"
   ]
  },
  {
   "cell_type": "code",
   "execution_count": null,
   "id": "54d62749-ce43-439a-80d2-23a4f835abd5",
   "metadata": {},
   "outputs": [],
   "source": []
  }
 ],
 "metadata": {
  "kernelspec": {
   "display_name": "Python 3 (ipykernel)",
   "language": "python",
   "name": "python3"
  },
  "language_info": {
   "codemirror_mode": {
    "name": "ipython",
    "version": 3
   },
   "file_extension": ".py",
   "mimetype": "text/x-python",
   "name": "python",
   "nbconvert_exporter": "python",
   "pygments_lexer": "ipython3",
   "version": "3.9.16"
  }
 },
 "nbformat": 4,
 "nbformat_minor": 5
}

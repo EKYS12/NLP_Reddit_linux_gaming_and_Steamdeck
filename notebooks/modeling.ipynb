{
 "cells": [
  {
   "cell_type": "markdown",
   "id": "dde07eb8-5b5f-4179-83fa-3011e697c843",
   "metadata": {},
   "source": [
    "# Modeling"
   ]
  },
  {
   "cell_type": "code",
   "execution_count": 179,
   "id": "f0b82448-b8a7-4e59-941b-4f016dfca0a4",
   "metadata": {},
   "outputs": [],
   "source": [
    "import pandas as pd\n",
    "import numpy as np\n",
    "import matplotlib.pyplot as plt\n",
    "import seaborn as sns\n",
    "\n",
    "from sklearn.linear_model import LogisticRegression\n",
    "from sklearn.tree import DecisionTreeClassifier\n",
    "from sklearn.ensemble import RandomForestClassifier, AdaBoostClassifier\n",
    "from sklearn.model_selection import train_test_split, GridSearchCV\n",
    "from sklearn.metrics import mean_squared_error\n",
    "from nltk.corpus import stopwords\n",
    "from nltk.stem import WordNetLemmatizer, PorterStemmer\n",
    "from nltk.tokenize import word_tokenize\n",
    "from sklearn.feature_extraction.text import CountVectorizer\n",
    "from sklearn.pipeline import Pipeline\n",
    "\n",
    "import timeit\n",
    "import pickle"
   ]
  },
  {
   "cell_type": "code",
   "execution_count": 180,
   "id": "9be6546c-cde2-46ab-91c1-f9234af910bd",
   "metadata": {},
   "outputs": [],
   "source": [
    "titles = pd.read_parquet('../data/linux_gaming_SteamDeck_clean_title_data.parquet')\n",
    "comments = pd.read_parquet('../data/linux_gaming_SteamDeck_clean_comment_data.parquet')"
   ]
  },
  {
   "cell_type": "code",
   "execution_count": 181,
   "id": "69693b3e-2887-4468-8298-03a5cdad636b",
   "metadata": {},
   "outputs": [
    {
     "data": {
      "text/html": [
       "<div>\n",
       "<style scoped>\n",
       "    .dataframe tbody tr th:only-of-type {\n",
       "        vertical-align: middle;\n",
       "    }\n",
       "\n",
       "    .dataframe tbody tr th {\n",
       "        vertical-align: top;\n",
       "    }\n",
       "\n",
       "    .dataframe thead th {\n",
       "        text-align: right;\n",
       "    }\n",
       "</style>\n",
       "<table border=\"1\" class=\"dataframe\">\n",
       "  <thead>\n",
       "    <tr style=\"text-align: right;\">\n",
       "      <th></th>\n",
       "      <th>title_id</th>\n",
       "      <th>title</th>\n",
       "      <th>subreddit</th>\n",
       "      <th>title_length</th>\n",
       "      <th>title_word_count</th>\n",
       "      <th>negative_sentiment</th>\n",
       "      <th>neutral_sentiment</th>\n",
       "      <th>positive_sentiment</th>\n",
       "      <th>compund_sentiment</th>\n",
       "    </tr>\n",
       "  </thead>\n",
       "  <tbody>\n",
       "    <tr>\n",
       "      <th>0</th>\n",
       "      <td>pu1k55</td>\n",
       "      <td>epic games announce full easy anti cheat for l...</td>\n",
       "      <td>linux_gaming</td>\n",
       "      <td>74</td>\n",
       "      <td>12</td>\n",
       "      <td>0.308</td>\n",
       "      <td>0.523</td>\n",
       "      <td>0.169</td>\n",
       "      <td>-0.3400</td>\n",
       "    </tr>\n",
       "    <tr>\n",
       "      <th>1</th>\n",
       "      <td>9pkgwj</td>\n",
       "      <td>the struggles of being a modern age linux gamer</td>\n",
       "      <td>linux_gaming</td>\n",
       "      <td>48</td>\n",
       "      <td>9</td>\n",
       "      <td>0.263</td>\n",
       "      <td>0.737</td>\n",
       "      <td>0.000</td>\n",
       "      <td>-0.3612</td>\n",
       "    </tr>\n",
       "    <tr>\n",
       "      <th>2</th>\n",
       "      <td>q8trki</td>\n",
       "      <td>steam has banned all games that utilise blockc...</td>\n",
       "      <td>linux_gaming</td>\n",
       "      <td>100</td>\n",
       "      <td>15</td>\n",
       "      <td>0.176</td>\n",
       "      <td>0.824</td>\n",
       "      <td>0.000</td>\n",
       "      <td>-0.4588</td>\n",
       "    </tr>\n",
       "    <tr>\n",
       "      <th>3</th>\n",
       "      <td>ijat04</td>\n",
       "      <td>they didn't expect linux gaming in 2007</td>\n",
       "      <td>linux_gaming</td>\n",
       "      <td>39</td>\n",
       "      <td>7</td>\n",
       "      <td>0.000</td>\n",
       "      <td>1.000</td>\n",
       "      <td>0.000</td>\n",
       "      <td>0.0000</td>\n",
       "    </tr>\n",
       "    <tr>\n",
       "      <th>4</th>\n",
       "      <td>re13t3</td>\n",
       "      <td>ltt are planning to include linux compatibilit...</td>\n",
       "      <td>linux_gaming</td>\n",
       "      <td>74</td>\n",
       "      <td>11</td>\n",
       "      <td>0.000</td>\n",
       "      <td>1.000</td>\n",
       "      <td>0.000</td>\n",
       "      <td>0.0000</td>\n",
       "    </tr>\n",
       "  </tbody>\n",
       "</table>\n",
       "</div>"
      ],
      "text/plain": [
       "  title_id                                              title     subreddit  \\\n",
       "0   pu1k55  epic games announce full easy anti cheat for l...  linux_gaming   \n",
       "1   9pkgwj    the struggles of being a modern age linux gamer  linux_gaming   \n",
       "2   q8trki  steam has banned all games that utilise blockc...  linux_gaming   \n",
       "3   ijat04            they didn't expect linux gaming in 2007  linux_gaming   \n",
       "4   re13t3  ltt are planning to include linux compatibilit...  linux_gaming   \n",
       "\n",
       "   title_length  title_word_count  negative_sentiment  neutral_sentiment  \\\n",
       "0            74                12               0.308              0.523   \n",
       "1            48                 9               0.263              0.737   \n",
       "2           100                15               0.176              0.824   \n",
       "3            39                 7               0.000              1.000   \n",
       "4            74                11               0.000              1.000   \n",
       "\n",
       "   positive_sentiment  compund_sentiment  \n",
       "0               0.169            -0.3400  \n",
       "1               0.000            -0.3612  \n",
       "2               0.000            -0.4588  \n",
       "3               0.000             0.0000  \n",
       "4               0.000             0.0000  "
      ]
     },
     "execution_count": 181,
     "metadata": {},
     "output_type": "execute_result"
    }
   ],
   "source": [
    "titles.head()"
   ]
  },
  {
   "cell_type": "code",
   "execution_count": 182,
   "id": "81ed8ae0-beb1-4cc9-84e7-02c0394440a3",
   "metadata": {},
   "outputs": [
    {
     "data": {
      "text/html": [
       "<div>\n",
       "<style scoped>\n",
       "    .dataframe tbody tr th:only-of-type {\n",
       "        vertical-align: middle;\n",
       "    }\n",
       "\n",
       "    .dataframe tbody tr th {\n",
       "        vertical-align: top;\n",
       "    }\n",
       "\n",
       "    .dataframe thead th {\n",
       "        text-align: right;\n",
       "    }\n",
       "</style>\n",
       "<table border=\"1\" class=\"dataframe\">\n",
       "  <thead>\n",
       "    <tr style=\"text-align: right;\">\n",
       "      <th></th>\n",
       "      <th>comment_id</th>\n",
       "      <th>comments</th>\n",
       "      <th>subreddit</th>\n",
       "      <th>comment_length</th>\n",
       "      <th>comment_word_count</th>\n",
       "      <th>negative_sentiment</th>\n",
       "      <th>neutral_sentiment</th>\n",
       "      <th>positive_sentiment</th>\n",
       "      <th>compund_sentiment</th>\n",
       "    </tr>\n",
       "  </thead>\n",
       "  <tbody>\n",
       "    <tr>\n",
       "      <th>0</th>\n",
       "      <td>jibfcl5</td>\n",
       "      <td>fun fact the steam deck logo is just a pokebal...</td>\n",
       "      <td>SteamDeck</td>\n",
       "      <td>190</td>\n",
       "      <td>33</td>\n",
       "      <td>0.077</td>\n",
       "      <td>0.675</td>\n",
       "      <td>0.247</td>\n",
       "      <td>0.7783</td>\n",
       "    </tr>\n",
       "    <tr>\n",
       "      <th>1</th>\n",
       "      <td>jib4baj</td>\n",
       "      <td>no it's not the logo you see on the memory mak...</td>\n",
       "      <td>SteamDeck</td>\n",
       "      <td>635</td>\n",
       "      <td>90</td>\n",
       "      <td>0.077</td>\n",
       "      <td>0.889</td>\n",
       "      <td>0.034</td>\n",
       "      <td>-0.5994</td>\n",
       "    </tr>\n",
       "    <tr>\n",
       "      <th>2</th>\n",
       "      <td>jibacht</td>\n",
       "      <td>glad this isn't getting the traction you hoped...</td>\n",
       "      <td>SteamDeck</td>\n",
       "      <td>50</td>\n",
       "      <td>9</td>\n",
       "      <td>0.000</td>\n",
       "      <td>0.556</td>\n",
       "      <td>0.444</td>\n",
       "      <td>0.6808</td>\n",
       "    </tr>\n",
       "    <tr>\n",
       "      <th>3</th>\n",
       "      <td>jib5m0m</td>\n",
       "      <td>can't tell if you actually thought it was</td>\n",
       "      <td>SteamDeck</td>\n",
       "      <td>41</td>\n",
       "      <td>8</td>\n",
       "      <td>0.000</td>\n",
       "      <td>1.000</td>\n",
       "      <td>0.000</td>\n",
       "      <td>0.0000</td>\n",
       "    </tr>\n",
       "    <tr>\n",
       "      <th>4</th>\n",
       "      <td>jib5qio</td>\n",
       "      <td>this was inspired by this because it looks lik...</td>\n",
       "      <td>SteamDeck</td>\n",
       "      <td>115</td>\n",
       "      <td>23</td>\n",
       "      <td>0.000</td>\n",
       "      <td>0.769</td>\n",
       "      <td>0.231</td>\n",
       "      <td>0.6908</td>\n",
       "    </tr>\n",
       "  </tbody>\n",
       "</table>\n",
       "</div>"
      ],
      "text/plain": [
       "  comment_id                                           comments  subreddit  \\\n",
       "0    jibfcl5  fun fact the steam deck logo is just a pokebal...  SteamDeck   \n",
       "1    jib4baj  no it's not the logo you see on the memory mak...  SteamDeck   \n",
       "2    jibacht  glad this isn't getting the traction you hoped...  SteamDeck   \n",
       "3    jib5m0m          can't tell if you actually thought it was  SteamDeck   \n",
       "4    jib5qio  this was inspired by this because it looks lik...  SteamDeck   \n",
       "\n",
       "   comment_length  comment_word_count  negative_sentiment  neutral_sentiment  \\\n",
       "0             190                  33               0.077              0.675   \n",
       "1             635                  90               0.077              0.889   \n",
       "2              50                   9               0.000              0.556   \n",
       "3              41                   8               0.000              1.000   \n",
       "4             115                  23               0.000              0.769   \n",
       "\n",
       "   positive_sentiment  compund_sentiment  \n",
       "0               0.247             0.7783  \n",
       "1               0.034            -0.5994  \n",
       "2               0.444             0.6808  \n",
       "3               0.000             0.0000  \n",
       "4               0.231             0.6908  "
      ]
     },
     "execution_count": 182,
     "metadata": {},
     "output_type": "execute_result"
    }
   ],
   "source": [
    "comments.head()"
   ]
  },
  {
   "cell_type": "code",
   "execution_count": 183,
   "id": "8725baea-b420-4d83-848e-19b9b87ef561",
   "metadata": {},
   "outputs": [
    {
     "data": {
      "text/plain": [
       "(6305, 9)"
      ]
     },
     "execution_count": 183,
     "metadata": {},
     "output_type": "execute_result"
    }
   ],
   "source": [
    "titles.shape"
   ]
  },
  {
   "cell_type": "code",
   "execution_count": 184,
   "id": "b7144d05-fece-47f6-a6e0-73d3aa0a14ae",
   "metadata": {},
   "outputs": [
    {
     "data": {
      "text/plain": [
       "(485125, 9)"
      ]
     },
     "execution_count": 184,
     "metadata": {},
     "output_type": "execute_result"
    }
   ],
   "source": [
    "comments.shape"
   ]
  },
  {
   "cell_type": "code",
   "execution_count": 185,
   "id": "6a9e36fc-5e64-4c7e-ac18-8e09d9c598d5",
   "metadata": {},
   "outputs": [
    {
     "data": {
      "text/plain": [
       "SteamDeck       0.63632\n",
       "linux_gaming    0.36368\n",
       "Name: subreddit, dtype: float64"
      ]
     },
     "execution_count": 185,
     "metadata": {},
     "output_type": "execute_result"
    }
   ],
   "source": [
    "titles['subreddit'].value_counts(normalize=True)"
   ]
  },
  {
   "cell_type": "code",
   "execution_count": 186,
   "id": "9f56a3d4-df5c-4b9d-ad21-fcdc8afe2964",
   "metadata": {},
   "outputs": [
    {
     "data": {
      "text/plain": [
       "SteamDeck       0.662013\n",
       "linux_gaming    0.337987\n",
       "Name: subreddit, dtype: float64"
      ]
     },
     "execution_count": 186,
     "metadata": {},
     "output_type": "execute_result"
    }
   ],
   "source": [
    "comments['subreddit'].value_counts(normalize=True)"
   ]
  },
  {
   "cell_type": "markdown",
   "id": "421fff92-cc4b-423d-bf85-914bcb1164af",
   "metadata": {},
   "source": [
    "## Model Balancing\n",
    "\n",
    "We have lots of data, and an imbalance of around 2/3 and 1/3. We can afford to cut out some r/SteamDeck data to get a nice 50-50 splits between the two. We can perform random sampling to pick out the data. This will also help our models run a bit faster. "
   ]
  },
  {
   "cell_type": "code",
   "execution_count": 187,
   "id": "16e38c6b-abe8-481e-a947-b621ac7a8218",
   "metadata": {},
   "outputs": [
    {
     "data": {
      "text/plain": [
       "SteamDeck       4012\n",
       "linux_gaming    2293\n",
       "Name: subreddit, dtype: int64"
      ]
     },
     "execution_count": 187,
     "metadata": {},
     "output_type": "execute_result"
    }
   ],
   "source": [
    "titles['subreddit'].value_counts()"
   ]
  },
  {
   "cell_type": "code",
   "execution_count": 188,
   "id": "7f761db5-d2e3-452a-94eb-3bb1df1668c8",
   "metadata": {},
   "outputs": [
    {
     "data": {
      "text/plain": [
       "SteamDeck       321159\n",
       "linux_gaming    163966\n",
       "Name: subreddit, dtype: int64"
      ]
     },
     "execution_count": 188,
     "metadata": {},
     "output_type": "execute_result"
    }
   ],
   "source": [
    "comments['subreddit'].value_counts()"
   ]
  },
  {
   "cell_type": "code",
   "execution_count": 189,
   "id": "3cdb9889-c6c9-41d2-9fb8-8cd08af76d98",
   "metadata": {},
   "outputs": [
    {
     "data": {
      "text/plain": [
       "2293"
      ]
     },
     "execution_count": 189,
     "metadata": {},
     "output_type": "execute_result"
    }
   ],
   "source": [
    "linux_title_count = titles['subreddit'].value_counts()[1]\n",
    "\n",
    "linux_title_count"
   ]
  },
  {
   "cell_type": "code",
   "execution_count": 190,
   "id": "e883b052-0375-492d-b9b7-d70b30ca4c47",
   "metadata": {},
   "outputs": [],
   "source": [
    "# Decided not to use this and severely lower comment data because there is just too much.\n",
    "\n",
    "# linux_comment_count = comments['subreddit'].value_counts()[1]\n",
    "# \n",
    "# linux_comment_count"
   ]
  },
  {
   "cell_type": "markdown",
   "id": "1ef0f029-58e8-4b3d-a745-6ea76e6b7f17",
   "metadata": {},
   "source": [
    "We can actually just get and store the number of observations in our lower represented value, so let's write a function that can balance our datasets for us."
   ]
  },
  {
   "cell_type": "code",
   "execution_count": 191,
   "id": "d5d22795-1547-4243-a3f4-a0dd2cdeea69",
   "metadata": {},
   "outputs": [],
   "source": [
    "def balance_df(df, count):\n",
    "    linux = df[df['subreddit'] == 'linux_gaming'].sample(n=count, random_state=42)\n",
    "    steam = df[df['subreddit'] == 'SteamDeck'].sample(n=count, random_state=42)\n",
    "    \n",
    "    # concatenate the two subsets into a new DataFrame\n",
    "    new_df = pd.concat([linux, steam])\n",
    "    \n",
    "    # shuffle the new DataFrame\n",
    "    new_df = new_df.sample(frac=1, random_state=42)\n",
    "    \n",
    "    return new_df"
   ]
  },
  {
   "cell_type": "code",
   "execution_count": 192,
   "id": "0ae34d9e-0d27-46c2-978e-9f1f0ad72d56",
   "metadata": {},
   "outputs": [],
   "source": [
    "titles = balance_df(titles, linux_title_count)\n",
    "comments = balance_df(comments, 100000)"
   ]
  },
  {
   "cell_type": "code",
   "execution_count": 193,
   "id": "18331852-5279-4746-a52b-e66a9832c6ee",
   "metadata": {},
   "outputs": [
    {
     "data": {
      "text/html": [
       "<div>\n",
       "<style scoped>\n",
       "    .dataframe tbody tr th:only-of-type {\n",
       "        vertical-align: middle;\n",
       "    }\n",
       "\n",
       "    .dataframe tbody tr th {\n",
       "        vertical-align: top;\n",
       "    }\n",
       "\n",
       "    .dataframe thead th {\n",
       "        text-align: right;\n",
       "    }\n",
       "</style>\n",
       "<table border=\"1\" class=\"dataframe\">\n",
       "  <thead>\n",
       "    <tr style=\"text-align: right;\">\n",
       "      <th></th>\n",
       "      <th>title_id</th>\n",
       "      <th>title</th>\n",
       "      <th>subreddit</th>\n",
       "      <th>title_length</th>\n",
       "      <th>title_word_count</th>\n",
       "      <th>negative_sentiment</th>\n",
       "      <th>neutral_sentiment</th>\n",
       "      <th>positive_sentiment</th>\n",
       "      <th>compund_sentiment</th>\n",
       "    </tr>\n",
       "  </thead>\n",
       "  <tbody>\n",
       "    <tr>\n",
       "      <th>2345</th>\n",
       "      <td>133ybku</td>\n",
       "      <td>my icons won't go to portrait i've tried unins...</td>\n",
       "      <td>SteamDeck</td>\n",
       "      <td>208</td>\n",
       "      <td>39</td>\n",
       "      <td>0.057</td>\n",
       "      <td>0.914</td>\n",
       "      <td>0.029</td>\n",
       "      <td>-0.2732</td>\n",
       "    </tr>\n",
       "    <tr>\n",
       "      <th>3674</th>\n",
       "      <td>u1loln</td>\n",
       "      <td>i found the perfect stand for my steam deck</td>\n",
       "      <td>SteamDeck</td>\n",
       "      <td>44</td>\n",
       "      <td>9</td>\n",
       "      <td>0.000</td>\n",
       "      <td>0.654</td>\n",
       "      <td>0.346</td>\n",
       "      <td>0.5719</td>\n",
       "    </tr>\n",
       "    <tr>\n",
       "      <th>2205</th>\n",
       "      <td>120zrem</td>\n",
       "      <td>overwatch mouse capture issue after respawn</td>\n",
       "      <td>linux_gaming</td>\n",
       "      <td>43</td>\n",
       "      <td>6</td>\n",
       "      <td>0.000</td>\n",
       "      <td>1.000</td>\n",
       "      <td>0.000</td>\n",
       "      <td>0.0000</td>\n",
       "    </tr>\n",
       "    <tr>\n",
       "      <th>1292</th>\n",
       "      <td>12oa8w0</td>\n",
       "      <td>does the battery health optimization on the lo...</td>\n",
       "      <td>linux_gaming</td>\n",
       "      <td>80</td>\n",
       "      <td>12</td>\n",
       "      <td>0.000</td>\n",
       "      <td>0.809</td>\n",
       "      <td>0.191</td>\n",
       "      <td>0.3818</td>\n",
       "    </tr>\n",
       "    <tr>\n",
       "      <th>6008</th>\n",
       "      <td>12qfc00</td>\n",
       "      <td>best option for 4 controllers</td>\n",
       "      <td>SteamDeck</td>\n",
       "      <td>29</td>\n",
       "      <td>5</td>\n",
       "      <td>0.000</td>\n",
       "      <td>0.417</td>\n",
       "      <td>0.583</td>\n",
       "      <td>0.6369</td>\n",
       "    </tr>\n",
       "  </tbody>\n",
       "</table>\n",
       "</div>"
      ],
      "text/plain": [
       "     title_id                                              title  \\\n",
       "2345  133ybku  my icons won't go to portrait i've tried unins...   \n",
       "3674   u1loln        i found the perfect stand for my steam deck   \n",
       "2205  120zrem        overwatch mouse capture issue after respawn   \n",
       "1292  12oa8w0  does the battery health optimization on the lo...   \n",
       "6008  12qfc00                      best option for 4 controllers   \n",
       "\n",
       "         subreddit  title_length  title_word_count  negative_sentiment  \\\n",
       "2345     SteamDeck           208                39               0.057   \n",
       "3674     SteamDeck            44                 9               0.000   \n",
       "2205  linux_gaming            43                 6               0.000   \n",
       "1292  linux_gaming            80                12               0.000   \n",
       "6008     SteamDeck            29                 5               0.000   \n",
       "\n",
       "      neutral_sentiment  positive_sentiment  compund_sentiment  \n",
       "2345              0.914               0.029            -0.2732  \n",
       "3674              0.654               0.346             0.5719  \n",
       "2205              1.000               0.000             0.0000  \n",
       "1292              0.809               0.191             0.3818  \n",
       "6008              0.417               0.583             0.6369  "
      ]
     },
     "execution_count": 193,
     "metadata": {},
     "output_type": "execute_result"
    }
   ],
   "source": [
    "titles.head()"
   ]
  },
  {
   "cell_type": "code",
   "execution_count": 194,
   "id": "d6a08f6b-1c5b-45a1-ab3b-b5120cbb4047",
   "metadata": {},
   "outputs": [
    {
     "data": {
      "text/plain": [
       "(4586, 9)"
      ]
     },
     "execution_count": 194,
     "metadata": {},
     "output_type": "execute_result"
    }
   ],
   "source": [
    "titles.shape"
   ]
  },
  {
   "cell_type": "code",
   "execution_count": 195,
   "id": "f1aa9b41-94d4-4861-9838-fee3224fb373",
   "metadata": {},
   "outputs": [
    {
     "data": {
      "text/html": [
       "<div>\n",
       "<style scoped>\n",
       "    .dataframe tbody tr th:only-of-type {\n",
       "        vertical-align: middle;\n",
       "    }\n",
       "\n",
       "    .dataframe tbody tr th {\n",
       "        vertical-align: top;\n",
       "    }\n",
       "\n",
       "    .dataframe thead th {\n",
       "        text-align: right;\n",
       "    }\n",
       "</style>\n",
       "<table border=\"1\" class=\"dataframe\">\n",
       "  <thead>\n",
       "    <tr style=\"text-align: right;\">\n",
       "      <th></th>\n",
       "      <th>comment_id</th>\n",
       "      <th>comments</th>\n",
       "      <th>subreddit</th>\n",
       "      <th>comment_length</th>\n",
       "      <th>comment_word_count</th>\n",
       "      <th>negative_sentiment</th>\n",
       "      <th>neutral_sentiment</th>\n",
       "      <th>positive_sentiment</th>\n",
       "      <th>compund_sentiment</th>\n",
       "    </tr>\n",
       "  </thead>\n",
       "  <tbody>\n",
       "    <tr>\n",
       "      <th>226220</th>\n",
       "      <td>iaoauox</td>\n",
       "      <td>who said anything about quality they were obvi...</td>\n",
       "      <td>SteamDeck</td>\n",
       "      <td>132</td>\n",
       "      <td>22</td>\n",
       "      <td>0.000</td>\n",
       "      <td>0.752</td>\n",
       "      <td>0.248</td>\n",
       "      <td>0.7650</td>\n",
       "    </tr>\n",
       "    <tr>\n",
       "      <th>326714</th>\n",
       "      <td>jibe9l7</td>\n",
       "      <td>good suggestion pts is awesome</td>\n",
       "      <td>linux_gaming</td>\n",
       "      <td>31</td>\n",
       "      <td>5</td>\n",
       "      <td>0.000</td>\n",
       "      <td>0.300</td>\n",
       "      <td>0.700</td>\n",
       "      <td>0.7906</td>\n",
       "    </tr>\n",
       "    <tr>\n",
       "      <th>135215</th>\n",
       "      <td>hzwhmk1</td>\n",
       "      <td>q3 and good i ve got some money burning a hole...</td>\n",
       "      <td>SteamDeck</td>\n",
       "      <td>171</td>\n",
       "      <td>32</td>\n",
       "      <td>0.000</td>\n",
       "      <td>0.906</td>\n",
       "      <td>0.094</td>\n",
       "      <td>0.4404</td>\n",
       "    </tr>\n",
       "    <tr>\n",
       "      <th>382285</th>\n",
       "      <td>hltpaht</td>\n",
       "      <td>instead of actually learning what foss and con...</td>\n",
       "      <td>linux_gaming</td>\n",
       "      <td>178</td>\n",
       "      <td>30</td>\n",
       "      <td>0.082</td>\n",
       "      <td>0.838</td>\n",
       "      <td>0.080</td>\n",
       "      <td>0.2396</td>\n",
       "    </tr>\n",
       "    <tr>\n",
       "      <th>349926</th>\n",
       "      <td>iknxkzk</td>\n",
       "      <td>do you have any plan thoughts about switching ...</td>\n",
       "      <td>linux_gaming</td>\n",
       "      <td>109</td>\n",
       "      <td>17</td>\n",
       "      <td>0.000</td>\n",
       "      <td>1.000</td>\n",
       "      <td>0.000</td>\n",
       "      <td>0.0000</td>\n",
       "    </tr>\n",
       "  </tbody>\n",
       "</table>\n",
       "</div>"
      ],
      "text/plain": [
       "       comment_id                                           comments  \\\n",
       "226220    iaoauox  who said anything about quality they were obvi...   \n",
       "326714    jibe9l7                     good suggestion pts is awesome   \n",
       "135215    hzwhmk1  q3 and good i ve got some money burning a hole...   \n",
       "382285    hltpaht  instead of actually learning what foss and con...   \n",
       "349926    iknxkzk  do you have any plan thoughts about switching ...   \n",
       "\n",
       "           subreddit  comment_length  comment_word_count  negative_sentiment  \\\n",
       "226220     SteamDeck             132                  22               0.000   \n",
       "326714  linux_gaming              31                   5               0.000   \n",
       "135215     SteamDeck             171                  32               0.000   \n",
       "382285  linux_gaming             178                  30               0.082   \n",
       "349926  linux_gaming             109                  17               0.000   \n",
       "\n",
       "        neutral_sentiment  positive_sentiment  compund_sentiment  \n",
       "226220              0.752               0.248             0.7650  \n",
       "326714              0.300               0.700             0.7906  \n",
       "135215              0.906               0.094             0.4404  \n",
       "382285              0.838               0.080             0.2396  \n",
       "349926              1.000               0.000             0.0000  "
      ]
     },
     "execution_count": 195,
     "metadata": {},
     "output_type": "execute_result"
    }
   ],
   "source": [
    "comments.head()"
   ]
  },
  {
   "cell_type": "code",
   "execution_count": 196,
   "id": "f9c21c26-e80f-4450-9318-f0c947cd8f7f",
   "metadata": {},
   "outputs": [
    {
     "data": {
      "text/plain": [
       "(200000, 9)"
      ]
     },
     "execution_count": 196,
     "metadata": {},
     "output_type": "execute_result"
    }
   ],
   "source": [
    "comments.shape"
   ]
  },
  {
   "cell_type": "markdown",
   "id": "a913ac5e-6e2d-47e1-9657-72f283179d97",
   "metadata": {},
   "source": [
    "Even though we cut out a fair bit of data, we're still left with more than enough of what we would want."
   ]
  },
  {
   "cell_type": "markdown",
   "id": "d21a2ef5-41f6-4d4e-b70a-693f77b65251",
   "metadata": {},
   "source": [
    "## We'll First do Titles"
   ]
  },
  {
   "cell_type": "code",
   "execution_count": 197,
   "id": "8d8e17c7-5fae-4ae6-80db-b9545f3455d8",
   "metadata": {},
   "outputs": [],
   "source": [
    "X = titles['title']\n",
    "y = titles['subreddit']\n",
    "\n",
    "X_train, X_test, y_train, y_test = train_test_split(X, y, random_state=42)"
   ]
  },
  {
   "cell_type": "markdown",
   "id": "0a80961a-e077-48ad-b239-818b15442135",
   "metadata": {},
   "source": [
    "## Pre-Processing"
   ]
  },
  {
   "cell_type": "code",
   "execution_count": 198,
   "id": "9edfe820-eb31-4c43-b8fa-fb47ef9927e0",
   "metadata": {},
   "outputs": [],
   "source": [
    "# Define stopwords, lemmatizer, and stemmer\n",
    "stop_words = stopwords.words('english')\n",
    "lemmatizer = WordNetLemmatizer()\n",
    "stemmer = PorterStemmer()"
   ]
  },
  {
   "cell_type": "code",
   "execution_count": 199,
   "id": "2feb7983-0210-4832-8374-9b3b5bee8acd",
   "metadata": {},
   "outputs": [],
   "source": [
    "# Define a function to preprocess each document\n",
    "def preprocess(text):\n",
    "    # Tokenize text into words\n",
    "    words = word_tokenize(text)\n",
    "    # Remove stop words\n",
    "    words = [word for word in words if word not in stop_words]\n",
    "    # Lemmatize words\n",
    "    words = [lemmatizer.lemmatize(word) for word in words]\n",
    "    # Stem words\n",
    "    words = [stemmer.stem(word) for word in words]\n",
    "    # Join words back into a string\n",
    "    return ' '.join(words)"
   ]
  },
  {
   "cell_type": "code",
   "execution_count": 200,
   "id": "af65c177-c6db-405e-bd59-46c9cb0a3be7",
   "metadata": {},
   "outputs": [],
   "source": [
    "cvec = CountVectorizer(preprocessor=preprocess, max_features=1000)\n",
    "\n",
    "X_train_cv = cvec.fit_transform(X_train)\n",
    "X_test_cv = cvec.transform(X_test)"
   ]
  },
  {
   "cell_type": "markdown",
   "id": "079b55c0-eb71-4f23-aa1d-1caeaa87b24e",
   "metadata": {},
   "source": [
    "### Timer Function\n",
    "\n",
    "This is a neat little function I got from [here](https://datascience.stackexchange.com/a/117793) that helps us estimate how long a gridsearch will take."
   ]
  },
  {
   "cell_type": "code",
   "execution_count": 201,
   "id": "7ac6c982-e697-4410-bd23-d8a144b4fb61",
   "metadata": {},
   "outputs": [],
   "source": [
    "def esitmate_gridsearch_time(model, param_grid:dict, cv:int=5, processors:int=6):\n",
    "    times = []\n",
    "    for _ in range(5):\n",
    "        start = timeit.default_timer()\n",
    "        model.fit(X_train_cv, y_train)\n",
    "        model.score(X_train_cv, y_train)\n",
    "        times.append(timeit.default_timer() - start)\n",
    "\n",
    "    single_train_time = np.array(times).mean() # seconds\n",
    "\n",
    "    combos = 1\n",
    "    for vals in param_grid.values():\n",
    "        combos *= len(vals)\n",
    "\n",
    "    num_models = combos * cv / processors\n",
    "    seconds = num_models * single_train_time\n",
    "    minutes = seconds / 60\n",
    "    hours = minutes / 60\n",
    "\n",
    "    print(hours, minutes, seconds)"
   ]
  },
  {
   "cell_type": "markdown",
   "id": "f1627ac9-da7d-42a3-9da2-861e82a343a6",
   "metadata": {},
   "source": [
    "## Random Forest"
   ]
  },
  {
   "cell_type": "code",
   "execution_count": 202,
   "id": "aa92c2c4-1ae8-40cc-ab11-7d643b361ebe",
   "metadata": {},
   "outputs": [],
   "source": [
    "rf_pipe = Pipeline([\n",
    "    ('rf', RandomForestClassifier())\n",
    "])"
   ]
  },
  {
   "cell_type": "code",
   "execution_count": 203,
   "id": "622d5095-845b-4f97-9c1d-f332697a9b53",
   "metadata": {},
   "outputs": [],
   "source": [
    "rf_params = {\n",
    "    'rf__n_estimators': [100, 150, 200],\n",
    "    'rf__max_depth': [None, 1, 2, 3, 4, 5],\n",
    "    'rf__min_samples_split': [2, 3, 4],\n",
    "    'rf__min_samples_leaf': [1, 2, 3],\n",
    "    'rf__max_leaf_nodes': [2],\n",
    "    'rf__random_state': [42]\n",
    "}"
   ]
  },
  {
   "cell_type": "code",
   "execution_count": 204,
   "id": "35c3e798-e944-4d3c-90d7-a4612248cd60",
   "metadata": {},
   "outputs": [],
   "source": [
    "# esitmate_gridsearch_time(rf_pipe, rf_params, processors=8)"
   ]
  },
  {
   "cell_type": "code",
   "execution_count": 205,
   "id": "f02ec286-83e8-4b7a-ad88-7f9efdebc0e0",
   "metadata": {},
   "outputs": [],
   "source": [
    "rf_gs = GridSearchCV(rf_pipe, param_grid=rf_params, verbose=1, n_jobs=-1)"
   ]
  },
  {
   "cell_type": "code",
   "execution_count": 206,
   "id": "d1a0db71-b928-47f7-a65e-9c8fad97e616",
   "metadata": {},
   "outputs": [
    {
     "name": "stdout",
     "output_type": "stream",
     "text": [
      "Fitting 5 folds for each of 162 candidates, totalling 810 fits\n"
     ]
    }
   ],
   "source": [
    "rf_gs.fit(X_train_cv, y_train)\n",
    "\n",
    "with open('../models/random_forest_gridsearch_title_model.pkl', 'wb') as pickle_out:\n",
    "    pickle_out = pickle.dump(rf_gs, pickle_out)"
   ]
  },
  {
   "cell_type": "code",
   "execution_count": 207,
   "id": "acd293a5-a1d3-43cb-b445-c11a8ad5e4ff",
   "metadata": {},
   "outputs": [
    {
     "data": {
      "text/html": [
       "<style>#sk-container-id-4 {color: black;background-color: white;}#sk-container-id-4 pre{padding: 0;}#sk-container-id-4 div.sk-toggleable {background-color: white;}#sk-container-id-4 label.sk-toggleable__label {cursor: pointer;display: block;width: 100%;margin-bottom: 0;padding: 0.3em;box-sizing: border-box;text-align: center;}#sk-container-id-4 label.sk-toggleable__label-arrow:before {content: \"▸\";float: left;margin-right: 0.25em;color: #696969;}#sk-container-id-4 label.sk-toggleable__label-arrow:hover:before {color: black;}#sk-container-id-4 div.sk-estimator:hover label.sk-toggleable__label-arrow:before {color: black;}#sk-container-id-4 div.sk-toggleable__content {max-height: 0;max-width: 0;overflow: hidden;text-align: left;background-color: #f0f8ff;}#sk-container-id-4 div.sk-toggleable__content pre {margin: 0.2em;color: black;border-radius: 0.25em;background-color: #f0f8ff;}#sk-container-id-4 input.sk-toggleable__control:checked~div.sk-toggleable__content {max-height: 200px;max-width: 100%;overflow: auto;}#sk-container-id-4 input.sk-toggleable__control:checked~label.sk-toggleable__label-arrow:before {content: \"▾\";}#sk-container-id-4 div.sk-estimator input.sk-toggleable__control:checked~label.sk-toggleable__label {background-color: #d4ebff;}#sk-container-id-4 div.sk-label input.sk-toggleable__control:checked~label.sk-toggleable__label {background-color: #d4ebff;}#sk-container-id-4 input.sk-hidden--visually {border: 0;clip: rect(1px 1px 1px 1px);clip: rect(1px, 1px, 1px, 1px);height: 1px;margin: -1px;overflow: hidden;padding: 0;position: absolute;width: 1px;}#sk-container-id-4 div.sk-estimator {font-family: monospace;background-color: #f0f8ff;border: 1px dotted black;border-radius: 0.25em;box-sizing: border-box;margin-bottom: 0.5em;}#sk-container-id-4 div.sk-estimator:hover {background-color: #d4ebff;}#sk-container-id-4 div.sk-parallel-item::after {content: \"\";width: 100%;border-bottom: 1px solid gray;flex-grow: 1;}#sk-container-id-4 div.sk-label:hover label.sk-toggleable__label {background-color: #d4ebff;}#sk-container-id-4 div.sk-serial::before {content: \"\";position: absolute;border-left: 1px solid gray;box-sizing: border-box;top: 0;bottom: 0;left: 50%;z-index: 0;}#sk-container-id-4 div.sk-serial {display: flex;flex-direction: column;align-items: center;background-color: white;padding-right: 0.2em;padding-left: 0.2em;position: relative;}#sk-container-id-4 div.sk-item {position: relative;z-index: 1;}#sk-container-id-4 div.sk-parallel {display: flex;align-items: stretch;justify-content: center;background-color: white;position: relative;}#sk-container-id-4 div.sk-item::before, #sk-container-id-4 div.sk-parallel-item::before {content: \"\";position: absolute;border-left: 1px solid gray;box-sizing: border-box;top: 0;bottom: 0;left: 50%;z-index: -1;}#sk-container-id-4 div.sk-parallel-item {display: flex;flex-direction: column;z-index: 1;position: relative;background-color: white;}#sk-container-id-4 div.sk-parallel-item:first-child::after {align-self: flex-end;width: 50%;}#sk-container-id-4 div.sk-parallel-item:last-child::after {align-self: flex-start;width: 50%;}#sk-container-id-4 div.sk-parallel-item:only-child::after {width: 0;}#sk-container-id-4 div.sk-dashed-wrapped {border: 1px dashed gray;margin: 0 0.4em 0.5em 0.4em;box-sizing: border-box;padding-bottom: 0.4em;background-color: white;}#sk-container-id-4 div.sk-label label {font-family: monospace;font-weight: bold;display: inline-block;line-height: 1.2em;}#sk-container-id-4 div.sk-label-container {text-align: center;}#sk-container-id-4 div.sk-container {/* jupyter's `normalize.less` sets `[hidden] { display: none; }` but bootstrap.min.css set `[hidden] { display: none !important; }` so we also need the `!important` here to be able to override the default hidden behavior on the sphinx rendered scikit-learn.org. See: https://github.com/scikit-learn/scikit-learn/issues/21755 */display: inline-block !important;position: relative;}#sk-container-id-4 div.sk-text-repr-fallback {display: none;}</style><div id=\"sk-container-id-4\" class=\"sk-top-container\"><div class=\"sk-text-repr-fallback\"><pre>Pipeline(steps=[(&#x27;rf&#x27;,\n",
       "                 RandomForestClassifier(max_leaf_nodes=2, n_estimators=200,\n",
       "                                        random_state=42))])</pre><b>In a Jupyter environment, please rerun this cell to show the HTML representation or trust the notebook. <br />On GitHub, the HTML representation is unable to render, please try loading this page with nbviewer.org.</b></div><div class=\"sk-container\" hidden><div class=\"sk-item sk-dashed-wrapped\"><div class=\"sk-label-container\"><div class=\"sk-label sk-toggleable\"><input class=\"sk-toggleable__control sk-hidden--visually\" id=\"sk-estimator-id-7\" type=\"checkbox\" ><label for=\"sk-estimator-id-7\" class=\"sk-toggleable__label sk-toggleable__label-arrow\">Pipeline</label><div class=\"sk-toggleable__content\"><pre>Pipeline(steps=[(&#x27;rf&#x27;,\n",
       "                 RandomForestClassifier(max_leaf_nodes=2, n_estimators=200,\n",
       "                                        random_state=42))])</pre></div></div></div><div class=\"sk-serial\"><div class=\"sk-item\"><div class=\"sk-estimator sk-toggleable\"><input class=\"sk-toggleable__control sk-hidden--visually\" id=\"sk-estimator-id-8\" type=\"checkbox\" ><label for=\"sk-estimator-id-8\" class=\"sk-toggleable__label sk-toggleable__label-arrow\">RandomForestClassifier</label><div class=\"sk-toggleable__content\"><pre>RandomForestClassifier(max_leaf_nodes=2, n_estimators=200, random_state=42)</pre></div></div></div></div></div></div></div>"
      ],
      "text/plain": [
       "Pipeline(steps=[('rf',\n",
       "                 RandomForestClassifier(max_leaf_nodes=2, n_estimators=200,\n",
       "                                        random_state=42))])"
      ]
     },
     "execution_count": 207,
     "metadata": {},
     "output_type": "execute_result"
    }
   ],
   "source": [
    "rf_gs.best_estimator_"
   ]
  },
  {
   "cell_type": "code",
   "execution_count": 208,
   "id": "24b68d5c-fba3-412e-9a1f-c723043c7690",
   "metadata": {},
   "outputs": [
    {
     "data": {
      "text/plain": [
       "0.743530601536847"
      ]
     },
     "execution_count": 208,
     "metadata": {},
     "output_type": "execute_result"
    }
   ],
   "source": [
    "rf_gs.best_score_"
   ]
  },
  {
   "cell_type": "code",
   "execution_count": 209,
   "id": "dacedeb4-d16a-473e-8e50-2cdbbc5a3fce",
   "metadata": {},
   "outputs": [
    {
     "data": {
      "text/plain": [
       "{'rf__max_depth': None,\n",
       " 'rf__max_leaf_nodes': 2,\n",
       " 'rf__min_samples_leaf': 1,\n",
       " 'rf__min_samples_split': 2,\n",
       " 'rf__n_estimators': 200,\n",
       " 'rf__random_state': 42}"
      ]
     },
     "execution_count": 209,
     "metadata": {},
     "output_type": "execute_result"
    }
   ],
   "source": [
    "rf_gs.best_params_"
   ]
  },
  {
   "cell_type": "code",
   "execution_count": 210,
   "id": "a1f9002f-f822-4547-938a-354cd78e0815",
   "metadata": {},
   "outputs": [
    {
     "data": {
      "text/plain": [
       "(0.72637394591451, 0.7027027027027027)"
      ]
     },
     "execution_count": 210,
     "metadata": {},
     "output_type": "execute_result"
    }
   ],
   "source": [
    "rf_gs.score(X_train_cv, y_train), rf_gs.score(X_test_cv, y_test)"
   ]
  },
  {
   "cell_type": "code",
   "execution_count": null,
   "id": "aeb3ec6d-ee2c-4d54-896e-9da8450d93e2",
   "metadata": {},
   "outputs": [],
   "source": []
  },
  {
   "cell_type": "markdown",
   "id": "d2cf6675-f214-405d-b813-7f116a478679",
   "metadata": {},
   "source": [
    "## ADA Boost"
   ]
  },
  {
   "cell_type": "code",
   "execution_count": 211,
   "id": "ef35159c-d277-40fe-b4d9-e02d7cf945a0",
   "metadata": {},
   "outputs": [],
   "source": [
    "ada_pipe = Pipeline([\n",
    "    ('ada', AdaBoostClassifier())\n",
    "])"
   ]
  },
  {
   "cell_type": "code",
   "execution_count": 212,
   "id": "996e0f08-37c3-45c0-b0d5-61f51a545de0",
   "metadata": {},
   "outputs": [],
   "source": [
    "ada_params = {\n",
    "    'ada__n_estimators': [100, 150, 200],\n",
    "    'ada__learning_rate': [0.1, 1, 5, 10],\n",
    "    'ada__random_state': [42]\n",
    "}"
   ]
  },
  {
   "cell_type": "code",
   "execution_count": 213,
   "id": "3aa6c5b2-ebba-4b06-9323-ead9f537fe7e",
   "metadata": {},
   "outputs": [],
   "source": [
    "# esitmate_gridsearch_time(ada_pipe, ada_params, processors=8)"
   ]
  },
  {
   "cell_type": "code",
   "execution_count": 214,
   "id": "13be2692-ebfe-4690-afb8-82f4a656ca93",
   "metadata": {},
   "outputs": [],
   "source": [
    "ada_gs = GridSearchCV(ada_pipe, param_grid=ada_params, verbose=1, n_jobs=-1)"
   ]
  },
  {
   "cell_type": "code",
   "execution_count": 215,
   "id": "d3a4f781-519c-43b5-a9ce-cf9663a4c19f",
   "metadata": {},
   "outputs": [
    {
     "name": "stdout",
     "output_type": "stream",
     "text": [
      "Fitting 5 folds for each of 12 candidates, totalling 60 fits\n"
     ]
    }
   ],
   "source": [
    "ada_gs.fit(X_train_cv, y_train)\n",
    "\n",
    "with open('../models/ada_boost_gridsearch_title_model.pkl', 'wb') as pickle_out:\n",
    "    pickle_out = pickle.dump(rf_gs, pickle_out)"
   ]
  },
  {
   "cell_type": "markdown",
   "id": "b4bed8df-7e7f-479f-b477-8b3401422c26",
   "metadata": {},
   "source": [
    "## Comments"
   ]
  },
  {
   "cell_type": "code",
   "execution_count": 216,
   "id": "78310920-e77c-4c2a-b0f9-aad1d8ed55db",
   "metadata": {},
   "outputs": [],
   "source": [
    "X = comments['comments']\n",
    "y = comments['subreddit']\n",
    "\n",
    "X_train, X_test, y_train, y_test = train_test_split(X, y, random_state=42)"
   ]
  },
  {
   "cell_type": "code",
   "execution_count": 217,
   "id": "1bcf59c1-3cee-4edf-b70c-6827ed98dadf",
   "metadata": {},
   "outputs": [],
   "source": [
    "X_train_cv = cvec.fit_transform(X_train)\n",
    "X_test_cv = cvec.transform(X_test)"
   ]
  },
  {
   "cell_type": "code",
   "execution_count": 218,
   "id": "79106b1f-5893-4f42-a7cf-3f96dbc71c68",
   "metadata": {},
   "outputs": [
    {
     "name": "stdout",
     "output_type": "stream",
     "text": [
      "Fitting 5 folds for each of 162 candidates, totalling 810 fits\n"
     ]
    }
   ],
   "source": [
    "rf_gs.fit(X_train_cv, y_train)\n",
    "\n",
    "with open('../models/random_forest_gridsearch_comment_model.pkl', 'wb') as pickle_out:\n",
    "    pickle_out = pickle.dump(rf_gs, pickle_out)"
   ]
  },
  {
   "cell_type": "code",
   "execution_count": 219,
   "id": "d1a92b06-5631-4e21-afcc-97b7821d14e5",
   "metadata": {},
   "outputs": [
    {
     "data": {
      "text/plain": [
       "0.6954"
      ]
     },
     "execution_count": 219,
     "metadata": {},
     "output_type": "execute_result"
    }
   ],
   "source": [
    "rf_gs.best_score_"
   ]
  },
  {
   "cell_type": "code",
   "execution_count": 220,
   "id": "51d70153-458f-4469-a950-a288e72616b3",
   "metadata": {},
   "outputs": [
    {
     "data": {
      "text/plain": [
       "{'rf__max_depth': None,\n",
       " 'rf__max_leaf_nodes': 2,\n",
       " 'rf__min_samples_leaf': 1,\n",
       " 'rf__min_samples_split': 2,\n",
       " 'rf__n_estimators': 200,\n",
       " 'rf__random_state': 42}"
      ]
     },
     "execution_count": 220,
     "metadata": {},
     "output_type": "execute_result"
    }
   ],
   "source": [
    "rf_gs.best_params_"
   ]
  },
  {
   "cell_type": "code",
   "execution_count": 221,
   "id": "82edd6d6-6dc2-492c-a621-3130aa771989",
   "metadata": {},
   "outputs": [
    {
     "data": {
      "text/plain": [
       "(0.6950466666666667, 0.69132)"
      ]
     },
     "execution_count": 221,
     "metadata": {},
     "output_type": "execute_result"
    }
   ],
   "source": [
    "rf_gs.score(X_train_cv, y_train), rf_gs.score(X_test_cv, y_test)"
   ]
  },
  {
   "cell_type": "code",
   "execution_count": 222,
   "id": "ed20930e-fdba-40ab-a469-7ecc2cc4c7f4",
   "metadata": {},
   "outputs": [
    {
     "name": "stdout",
     "output_type": "stream",
     "text": [
      "Fitting 5 folds for each of 12 candidates, totalling 60 fits\n"
     ]
    }
   ],
   "source": [
    "ada_gs.fit(X_train_cv, y_train)\n",
    "\n",
    "with open('../models/ada_boost_gridsearch_comment_model.pkl', 'wb') as pickle_out:\n",
    "    pickle_out = pickle.dump(rf_gs, pickle_out)"
   ]
  }
 ],
 "metadata": {
  "kernelspec": {
   "display_name": "Python 3 (ipykernel)",
   "language": "python",
   "name": "python3"
  },
  "language_info": {
   "codemirror_mode": {
    "name": "ipython",
    "version": 3
   },
   "file_extension": ".py",
   "mimetype": "text/x-python",
   "name": "python",
   "nbconvert_exporter": "python",
   "pygments_lexer": "ipython3",
   "version": "3.9.16"
  }
 },
 "nbformat": 4,
 "nbformat_minor": 5
}
